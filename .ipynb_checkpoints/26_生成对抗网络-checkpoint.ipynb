{
 "cells": [
  {
   "cell_type": "markdown",
   "metadata": {
    "graffitiCellId": "id_g2nfxsh",
    "id": "F5DE4484C0E94A3D82D7E1601F61D4FF",
    "jupyter": {},
    "mdEditEnable": false,
    "slideshow": {
     "slide_type": "slide"
    },
    "tags": []
   },
   "source": [
    "# Generative Adversarial Networks\n",
    "\n",
    "\n",
    "Throughout most of this book, we have talked about how to make predictions. In some form or another, we used deep neural networks learned mappings from data points to labels. This kind of learning is called **discriminative learning**（判别式学习）, as in, we'd like to be able to discriminate between photos cats and photos of dogs. Classifiers and regressors are both examples of discriminative learning. And neural networks trained by backpropagation have upended everything we thought we knew about discriminative learning on large complicated datasets. Classification accuracies on high-res images has gone from useless to human-level (with some caveats) in just 5-6 years. We will spare you another spiel about all the other discriminative tasks where deep neural networks do astoundingly well.\n",
    "\n",
    "But there is more to machine learning than just solving discriminative tasks. For example, given a large dataset, **without any labels**, we might want to learn a model that concisely captures the characteristics of this data. Given such a model, we could sample synthetic data points that resemble the distribution of the training data. For example, given a large corpus of photographs of faces, we might want to be able to generate a new photorealistic image that looks like it might plausibly have come from the same dataset. This kind of learning is called **generative modeling.**(生成学习，生成属于 same dataset的new image）\n",
    "\n",
    "Until recently, we had no method that could synthesize novel photorealistic images. But the success of deep neural networks for discriminative learning opened up new possibilities. One big trend over the last three years has been the application of discriminative deep nets to overcome challenges in problems that we do not generally think of as supervised learning problems. The recurrent neural network language models are one example of using a discriminative network (trained to predict the next character) that once trained can act as a generative model.\n",
    "\n",
    "In 2014, a breakthrough paper introduced Generative adversarial networks (GANs) `Goodfellow.Pouget-Abadie.Mirza.ea.2014`, a clever new way to leverage the power of discriminative models to get good generative models. At their heart, **GANs rely on the idea that a data generator is good if we cannot tell fake data apart from real data**.In statistics, this is called a two-sample test - a test to answer the question whether datasets $X=\\{x_1,\\ldots, x_n\\}$ and $X'=\\{x'_1,\\ldots, x'_n\\}$ were drawn from the same distribution. The main difference between most statistics papers and GANs is that the latter use this idea in a constructive way. In other words, rather than just training a model to say \"hey, these two datasets do not look like they came from the same distribution\", they use the **[two-sample test](https://en.wikipedia.org/wiki/Two-sample_hypothesis_testing) to provide training signals to a generative model**. This allows us to improve the data generator until it generates something that resembles the real data. At the very least, it needs to fool the classifier. Even if our classifier is a state of the art deep neural network.\n",
    "\n",
    "\n",
    "![Image Name](https://cdn.kesci.com/upload/image/q5tv0m8ro4.jpg?imageView2/0/w/320/h/320)\n",
    "\n",
    "\n",
    "The GAN architecture is illustrated.As you can see, there are two pieces in GAN architecture - first off, we need a device (say, a deep network but it really could be anything, such as a game rendering engine) that might potentially be able to generate data that looks just like the real thing. If we are dealing with images, this needs to generate images. If we are dealing with speech, it needs to generate audio sequences, and so on. We call this the generator network. The second component is the discriminator network. It attempts to distinguish fake and real data from each other. Both networks are in competition with each other. The generator network attempts to fool the discriminator network. At that point, the discriminator network adapts to the new fake data. This information, in turn is used to improve the generator network, and so on.\n",
    "\n",
    "\n",
    "The discriminator is a binary classifier to distinguish if the input $x$ is real (from real data) or fake (from the generator). Typically, the discriminator outputs a scalar prediction $o\\in\\mathbb R$ for input $\\mathbf x$, such as using a dense layer with hidden size 1, and then applies sigmoid function to obtain the predicted probability $D(\\mathbf x) = 1/(1+e^{-o})$. Assume the label $y$ for the true data is $1$ and $0$ for the fake data. We train the discriminator to minimize the cross-entropy loss, *i.e.*,\n",
    "\n",
    "\n",
    "$$\n",
    " \\min_D \\{ - y \\log D(\\mathbf x) - (1-y)\\log(1-D(\\mathbf x)) \\},\n",
    "$$\n",
    "\n",
    "\n",
    "For the generator, it first draws some parameter $\\mathbf z\\in\\mathbb R^d$ from a source of randomness, *e.g.*, a normal distribution $\\mathbf z \\sim \\mathcal{N} (0, 1)$. We often call $\\mathbf z$ as the latent variable. It then applies a function to generate $\\mathbf x'=G(\\mathbf z)$. The goal of the generator is to fool the discriminator to classify $\\mathbf x'=G(\\mathbf z)$ as true data, *i.e.*, we want $D( G(\\mathbf z)) \\approx 1$. In other words, for a given discriminator $D$, we update the parameters of the generator $G$ to maximize the cross-entropy loss when $y=0$, *i.e.*,\n",
    "\n",
    "\n",
    "$$\n",
    " \\max_G \\{ - (1-y) \\log(1-D(G(\\mathbf z))) \\} = \\max_G \\{ - \\log(1-D(G(\\mathbf z))) \\}.\n",
    "$$\n",
    "\n",
    "\n",
    "If the discriminator does a perfect job, then $D(\\mathbf x')\\approx 0$ so the above loss near 0, which results the gradients are too small to make a good progress for the generator. So commonly we minimize the following loss:\n",
    "\n",
    "\n",
    "$$\n",
    " \\min_G \\{ - y \\log(D(G(\\mathbf z))) \\} = \\min_G \\{ - \\log(D(G(\\mathbf z))) \\}, \n",
    "$$\n",
    "\n",
    "\n",
    "which is just feed $\\mathbf x'=G(\\mathbf z)$ into the discriminator but giving label $y=1$.\n",
    "\n",
    "\n",
    "To sum up, $D$ and $G$ are playing a \"minimax\" game(博弈) with the comprehensive objective function:\n",
    "\n",
    "\n",
    "$$\n",
    "min_D max_G \\{ -E_{x \\sim \\text{Data}} log D(\\mathbf x) - E_{z \\sim \\text{Noise}} log(1 - D(G(\\mathbf z))) \\}.\n",
    "$$\n",
    "\n",
    "\n",
    "\n",
    "\n",
    "Many of the GANs applications are in the context of images. As a demonstration purpose, we are going to content ourselves with fitting a much simpler distribution first. We will illustrate what happens if we use GANs to build the world's most inefficient estimator of parameters for a Gaussian. Let's get started."
   ]
  },
  {
   "cell_type": "code",
   "execution_count": 1,
   "metadata": {
    "attributes": {
     "classes": [],
     "id": "",
     "n": "1"
    },
    "graffitiCellId": "id_ogwvsf9",
    "id": "E5C78560C7DE478B82A7CD4B9614B329",
    "jupyter": {},
    "scrolled": false,
    "slideshow": {
     "slide_type": "slide"
    },
    "tags": []
   },
   "outputs": [],
   "source": [
    "%matplotlib inline\n",
    "import matplotlib.pyplot as plt\n",
    "from torch.utils.data import DataLoader\n",
    "from torch import nn\n",
    "import numpy as np\n",
    "from torch.autograd import Variable\n",
    "import torch"
   ]
  },
  {
   "cell_type": "markdown",
   "metadata": {
    "graffitiCellId": "id_fss5xtx",
    "id": "CC8CD2AD8F75488682B5A53565CA6614",
    "jupyter": {},
    "mdEditEnable": false,
    "slideshow": {
     "slide_type": "slide"
    },
    "tags": []
   },
   "source": [
    "## Generate some \"real\" data\n",
    "\n",
    "Since this is going to be the world's lamest example, we simply generate data drawn from a Gaussian."
   ]
  },
  {
   "cell_type": "code",
   "execution_count": 2,
   "metadata": {
    "attributes": {
     "classes": [],
     "id": "",
     "n": "2"
    },
    "graffitiCellId": "id_xtp5s50",
    "id": "3958ED52A5AB4F6FB2AB6898D2F84D2A",
    "jupyter": {},
    "scrolled": false,
    "slideshow": {
     "slide_type": "slide"
    },
    "tags": []
   },
   "outputs": [],
   "source": [
    "X=np.random.normal(size=(1000,2))\n",
    "A=np.array([[1,2],[-0.1,0.5]])\n",
    "b=np.array([1,2])\n",
    "data=X.dot(A)+b"
   ]
  },
  {
   "cell_type": "markdown",
   "metadata": {
    "graffitiCellId": "id_mm4uo2x",
    "id": "64C436146DEA41AF9531EAD05117BB3C",
    "jupyter": {},
    "mdEditEnable": false,
    "slideshow": {
     "slide_type": "slide"
    },
    "tags": []
   },
   "source": [
    "Let's see what we got. This should be a Gaussian shifted in some rather arbitrary way with mean $b$ and covariance matrix $A^TA$."
   ]
  },
  {
   "cell_type": "code",
   "execution_count": 3,
   "metadata": {
    "attributes": {
     "classes": [],
     "id": "",
     "n": "3"
    },
    "graffitiCellId": "id_5f2fmms",
    "id": "D794A0FAF6C74E17AF54E8636B5A7B11",
    "jupyter": {},
    "scrolled": false,
    "slideshow": {
     "slide_type": "slide"
    },
    "tags": []
   },
   "outputs": [
    {
     "data": {
      "image/png": "[encoded data removed]",
      "text/plain": [
       "<Figure size 252x180 with 1 Axes>"
      ]
     },
     "metadata": {
      "needs_background": "light"
     },
     "output_type": "display_data"
    },
    {
     "data": {
      "image/png": "[encoded data removed]",
      "text/plain": [
       "<Figure size 252x180 with 1 Axes>"
      ]
     },
     "metadata": {
      "needs_background": "light"
     },
     "output_type": "display_data"
    },
    {
     "name": "stdout",
     "output_type": "stream",
     "text": [
      "The covariance matrix is\n",
      "[[1.01 1.95]\n",
      " [1.95 4.25]]\n"
     ]
    }
   ],
   "source": [
    "plt.figure(figsize=(3.5,2.5))\n",
    "plt.scatter(X[:100,0],X[:100,1],color='red')\n",
    "plt.show()\n",
    "plt.figure(figsize=(3.5,2.5))\n",
    "plt.scatter(data[:100,0],data[:100,1],color='blue')\n",
    "plt.show()\n",
    "print(\"The covariance matrix is\\n%s\" % np.dot(A.T, A))"
   ]
  },
  {
   "cell_type": "code",
   "execution_count": 4,
   "metadata": {
    "attributes": {
     "classes": [],
     "id": "",
     "n": "4"
    },
    "graffitiCellId": "id_5vh725w",
    "id": "EEBE2092F05443A4871872853E44C938",
    "jupyter": {},
    "scrolled": false,
    "slideshow": {
     "slide_type": "slide"
    },
    "tags": []
   },
   "outputs": [],
   "source": [
    "batch_size=8\n",
    "data_iter=DataLoader(data,batch_size=batch_size)"
   ]
  },
  {
   "cell_type": "markdown",
   "metadata": {
    "graffitiCellId": "id_e2w5mgw",
    "id": "5E94DE4CD0C54E018FC532AB4464D2F7",
    "jupyter": {},
    "mdEditEnable": false,
    "slideshow": {
     "slide_type": "slide"
    },
    "tags": []
   },
   "source": [
    "## Generator\n",
    "\n",
    "Our generator network will be the simplest network possible - a single layer linear model. This is since we will be driving that linear network with a Gaussian data generator. Hence, it literally only needs to learn the parameters to fake things perfectly."
   ]
  },
  {
   "cell_type": "code",
   "execution_count": 5,
   "metadata": {
    "attributes": {
     "classes": [],
     "id": "",
     "n": "5"
    },
    "graffitiCellId": "id_u773iak",
    "id": "8E3FF6570F5245DC8BC73C9B6602BA76",
    "jupyter": {},
    "scrolled": false,
    "slideshow": {
     "slide_type": "slide"
    },
    "tags": []
   },
   "outputs": [],
   "source": [
    "class net_G(nn.Module):\n",
    "    def __init__(self):\n",
    "        super(net_G,self).__init__()\n",
    "        self.model=nn.Sequential(\n",
    "            nn.Linear(2,2),\n",
    "        )\n",
    "        self._initialize_weights()\n",
    "    def forward(self,x):\n",
    "        x=self.model(x)\n",
    "        return x\n",
    "    def _initialize_weights(self):\n",
    "        for m in self.modules():\n",
    "            if isinstance(m,nn.Linear):\n",
    "                m.weight.data.normal_(0,0.02)\n",
    "                m.bias.data.zero_()"
   ]
  },
  {
   "cell_type": "markdown",
   "metadata": {
    "graffitiCellId": "id_dm0xuko",
    "id": "09742BC05B784D96871F75E57C2A2A67",
    "jupyter": {},
    "mdEditEnable": false,
    "slideshow": {
     "slide_type": "slide"
    },
    "tags": []
   },
   "source": [
    "## Discriminator\n",
    "\n",
    "For the discriminator we will be a bit more discriminating: we will use an MLP with 3 layers to make things a bit more interesting."
   ]
  },
  {
   "cell_type": "code",
   "execution_count": 6,
   "metadata": {
    "attributes": {
     "classes": [],
     "id": "",
     "n": "6"
    },
    "graffitiCellId": "id_aq0y277",
    "id": "58CE5DAE22684A718CDADA60E6404901",
    "jupyter": {},
    "scrolled": false,
    "slideshow": {
     "slide_type": "slide"
    },
    "tags": []
   },
   "outputs": [],
   "source": [
    "class net_D(nn.Module):\n",
    "    def __init__(self):\n",
    "        super(net_D,self).__init__()\n",
    "        self.model=nn.Sequential(\n",
    "            nn.Linear(2,5),\n",
    "            nn.Tanh(),\n",
    "            nn.Linear(5,3),\n",
    "            nn.Tanh(),\n",
    "            nn.Linear(3,1),\n",
    "            nn.Sigmoid()\n",
    "        )\n",
    "        self._initialize_weights()\n",
    "    def forward(self,x):\n",
    "        x=self.model(x)\n",
    "        return x\n",
    "    def _initialize_weights(self):\n",
    "        for m in self.modules():\n",
    "            if isinstance(m,nn.Linear):\n",
    "                m.weight.data.normal_(0,0.02)\n",
    "                m.bias.data.zero_()"
   ]
  },
  {
   "cell_type": "markdown",
   "metadata": {
    "graffitiCellId": "id_s0z5u11",
    "id": "9B369BF3AA004C9E8B3B3FDAEC79C7A2",
    "jupyter": {},
    "mdEditEnable": false,
    "slideshow": {
     "slide_type": "slide"
    },
    "tags": []
   },
   "source": [
    "## Training\n",
    "\n",
    "First we define a function to update the discriminator."
   ]
  },
  {
   "cell_type": "code",
   "execution_count": 7,
   "metadata": {
    "attributes": {
     "classes": [],
     "id": "",
     "n": "7"
    },
    "graffitiCellId": "id_97pd0q1",
    "id": "EF9CF90F708F4AAD88CD746371791BB4",
    "jupyter": {},
    "scrolled": false,
    "slideshow": {
     "slide_type": "slide"
    },
    "tags": []
   },
   "outputs": [],
   "source": [
    "# Saved in the d2l package for later use 训练分类器的更新函数\n",
    "def update_D(X,Z,net_D,net_G,loss,trainer_D):\n",
    "    #real data、分类器的输入、分类模型、生成模型、交叉商损失、分类器\n",
    "    batch_size=X.shape[0]\n",
    "    Tensor=torch.FloatTensor\n",
    "    ones=Variable(Tensor(np.ones(batch_size))).view(batch_size,1)#real data's labels\n",
    "    zeros = Variable(Tensor(np.zeros(batch_size))).view(batch_size,1)# fake data's labels\n",
    "    real_Y=net_D(X.float())\n",
    "    fake_X=net_G(Z)\n",
    "    fake_Y=net_D(fake_X)\n",
    "    loss_D=(loss(real_Y,ones)+loss(fake_Y,zeros))/2\n",
    "    #loss -> 真实数据的label接近1 生成数据的label接近0\n",
    "    loss_D.backward()\n",
    "    trainer_D.step() #将梯度通过优化器 apply到分类器参数上 进行分类器参数的更新\n",
    "    return float(loss_D.sum())"
   ]
  },
  {
   "cell_type": "markdown",
   "metadata": {
    "graffitiCellId": "id_pauj1xx",
    "id": "20B5918543E1427187B3B7987B19B0AA",
    "jupyter": {},
    "mdEditEnable": false,
    "slideshow": {
     "slide_type": "slide"
    },
    "tags": []
   },
   "source": [
    "The generator is updated similarly. Here we reuse the cross-entropy loss but change the label of the fake data from $0$ to $1$."
   ]
  },
  {
   "cell_type": "code",
   "execution_count": 1,
   "metadata": {
    "attributes": {
     "classes": [],
     "id": "",
     "n": "8"
    },
    "graffitiCellId": "id_h1872x6",
    "id": "CB3EE1974BF848BE8038DDA97A11B1A5",
    "jupyter": {},
    "scrolled": false,
    "slideshow": {
     "slide_type": "slide"
    },
    "tags": []
   },
   "outputs": [],
   "source": [
    "# Saved in the d2l package for later use 训练生成器的更新函数\n",
    "def update_G(Z,net_D,net_G,loss,trainer_G):\n",
    "    batch_size=Z.shape[0]\n",
    "    Tensor=torch.FloatTensor\n",
    "    ones=Variable(Tensor(np.ones((batch_size,)))).view(batch_size,1)#label = 0会导致梯度消失\n",
    "    fake_X=net_G(Z)\n",
    "    fake_Y=net_D(fake_X)\n",
    "    loss_G=loss(fake_Y,ones)\n",
    "    loss_G.backward()\n",
    "    trainer_G.step()\n",
    "    return float(loss_G.sum())"
   ]
  },
  {
   "cell_type": "markdown",
   "metadata": {
    "graffitiCellId": "id_cvr5e9f",
    "id": "14541C3DBDD040F49FBBA78F5FB7A400",
    "jupyter": {},
    "mdEditEnable": false,
    "slideshow": {
     "slide_type": "slide"
    },
    "tags": []
   },
   "source": [
    "Both the discriminator and the generator performs a binary logistic regression with the cross-entropy loss. We use Adam to smooth the training process. In each iteration, we first update the discriminator and then the generator. We visualize both losses and generated examples."
   ]
  },
  {
   "cell_type": "code",
   "execution_count": 9,
   "metadata": {
    "attributes": {
     "classes": [],
     "id": "",
     "n": "9"
    },
    "graffitiCellId": "id_7jxdp9h",
    "id": "2974EA2219F4472F874C69FBD3BA213C",
    "jupyter": {},
    "scrolled": false,
    "slideshow": {
     "slide_type": "slide"
    },
    "tags": []
   },
   "outputs": [],
   "source": [
    "def train(net_D,net_G,data_iter,num_epochs,lr_D,lr_G,latent_dim,data):\n",
    "    loss=nn.BCELoss() #交叉商损失 \n",
    "    Tensor=torch.FloatTensor\n",
    "    trainer_D=torch.optim.Adam(net_D.parameters(),lr=lr_D) #Adam优化器\n",
    "    trainer_G=torch.optim.Adam(net_G.parameters(),lr=lr_G)\n",
    "    plt.figure(figsize=(7,4))\n",
    "    d_loss_point=[]\n",
    "    g_loss_point=[]\n",
    "    d_loss=0\n",
    "    g_loss=0\n",
    "    for epoch in range(1,num_epochs+1):\n",
    "        d_loss_sum=0\n",
    "        g_loss_sum=0\n",
    "        batch=0\n",
    "        for X in data_iter:#交替更新生成器和分类器的参数\n",
    "            batch+=1\n",
    "            X=Variable(X)\n",
    "            batch_size=X.shape[0]\n",
    "            Z=Variable(Tensor(np.random.normal(0,1,(batch_size,latent_dim))))\n",
    "            trainer_D.zero_grad()\n",
    "            d_loss = update_D(X, Z, net_D, net_G, loss, trainer_D)\n",
    "            d_loss_sum+=d_loss\n",
    "            trainer_G.zero_grad()\n",
    "            g_loss = update_G(Z, net_D, net_G, loss, trainer_G)\n",
    "            g_loss_sum+=g_loss\n",
    "        d_loss_point.append(d_loss_sum/batch)\n",
    "        g_loss_point.append(g_loss_sum/batch)\n",
    "    plt.ylabel('Loss', fontdict={'size': 14})\n",
    "    plt.xlabel('epoch', fontdict={'size': 14})\n",
    "    plt.xticks(range(0,num_epochs+1,3))\n",
    "    plt.plot(range(1,num_epochs+1),d_loss_point,color='orange',label='discriminator')\n",
    "    plt.plot(range(1,num_epochs+1),g_loss_point,color='blue',label='generator')\n",
    "    plt.legend()\n",
    "    plt.show()\n",
    "    print(d_loss,g_loss)\n",
    "    \n",
    "    Z =Variable(Tensor( np.random.normal(0, 1, size=(100, latent_dim))))\n",
    "    fake_X=net_G(Z).detach().numpy()\n",
    "    plt.figure(figsize=(3.5,2.5))\n",
    "    plt.scatter(data[:,0],data[:,1],color='blue',label='real')\n",
    "    plt.scatter(fake_X[:,0],fake_X[:,1],color='orange',label='generated')\n",
    "    plt.legend()\n",
    "    plt.show()"
   ]
  },
  {
   "cell_type": "markdown",
   "metadata": {
    "graffitiCellId": "id_3iofnv9",
    "id": "CAD94ACC24254D3E8FD1A7B742BC59CE",
    "jupyter": {},
    "mdEditEnable": false,
    "slideshow": {
     "slide_type": "slide"
    },
    "tags": []
   },
   "source": [
    "Now we specify the hyper-parameters to fit the Gaussian distribution."
   ]
  },
  {
   "cell_type": "code",
   "execution_count": 10,
   "metadata": {
    "attributes": {
     "classes": [],
     "id": "",
     "n": "10"
    },
    "graffitiCellId": "id_ak2tga0",
    "id": "B915456475D04449812F7DC0E4D0DA76",
    "jupyter": {},
    "scrolled": false,
    "slideshow": {
     "slide_type": "slide"
    },
    "tags": []
   },
   "outputs": [
    {
     "data": {
      "text/html": [
       "<img src=\"https://cdn.kesci.com/rt_upload/B915456475D04449812F7DC0E4D0DA76/q5tv6qn49u.png\">"
      ],
      "text/plain": [
       "<Figure size 504x288 with 1 Axes>"
      ]
     },
     "metadata": {
      "needs_background": "light"
     },
     "output_type": "display_data"
    },
    {
     "name": "stdout",
     "output_type": "stream",
     "text": [
      "0.6932446360588074 0.6927103996276855\n"
     ]
    },
    {
     "data": {
      "text/html": [
       "<img src=\"https://cdn.kesci.com/rt_upload/B915456475D04449812F7DC0E4D0DA76/q5tv6qvb4s.png\">"
      ],
      "text/plain": [
       "<Figure size 252x180 with 1 Axes>"
      ]
     },
     "metadata": {
      "needs_background": "light"
     },
     "output_type": "display_data"
    }
   ],
   "source": [
    "if __name__ == '__main__':\n",
    "    lr_D,lr_G,latent_dim,num_epochs=0.05,0.005,2,20 \n",
    "               #先验维度\n",
    "    generator=net_G()\n",
    "    discriminator=net_D()#初始化神经网络\n",
    "    train(discriminator,generator,data_iter,num_epochs,lr_D,lr_G,latent_dim,data)"
   ]
  },
  {
   "cell_type": "markdown",
   "metadata": {
    "graffitiCellId": "id_o86nhut",
    "id": "37D68A3EDD9A4D59B936D847E52070E1",
    "jupyter": {},
    "mdEditEnable": false,
    "slideshow": {
     "slide_type": "slide"
    },
    "tags": []
   },
   "source": [
    "## Summary\n",
    "\n",
    "* Generative adversarial networks (GANs) composes of two deep networks, the generator and the discriminator.\n",
    "* The generator generates the image as much closer to the true image as possible to fool the discriminator, via maximizing the cross-entropy loss, *i.e.*, $\\max \\log(D(\\mathbf{x'}))$.\n",
    "* The discriminator tries to distinguish the generated images from the true images, via minimizing the cross-entropy loss, *i.e.*, $\\min - y \\log D(\\mathbf{x}) - (1-y)\\log(1-D(\\mathbf{x}))$.\n",
    "\n",
    "## Exercises\n",
    "\n",
    "* Does an equilibrium exist where the generator wins, *i.e.* the discriminator ends up unable to distinguish the two distributions on finite samples?\n",
    "参考论文WGAN 、 WGAN-GP"
   ]
  },
  {
   "cell_type": "code",
   "execution_count": null,
   "metadata": {},
   "outputs": [],
   "source": []
  }
 ],
 "metadata": {
  "kernelspec": {
   "display_name": "Python 3",
   "language": "python",
   "name": "python3"
  },
  "language_info": {
   "codemirror_mode": {
    "name": "ipython",
    "version": 3
   },
   "file_extension": ".py",
   "mimetype": "text/x-python",
   "name": "python",
   "nbconvert_exporter": "python",
   "pygments_lexer": "ipython3",
   "version": "3.7.4"
  }
 },
 "nbformat": 4,
 "nbformat_minor": 1
}
