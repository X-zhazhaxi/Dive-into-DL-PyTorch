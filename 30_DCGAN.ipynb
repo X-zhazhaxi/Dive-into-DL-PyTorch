{
 "cells": [
  {
   "cell_type": "markdown",
   "metadata": {
    "graffitiCellId": "id_4o9jvsh",
    "id": "E5E7AD87C95F4C6E844942E1958748A5",
    "jupyter": {},
    "mdEditEnable": false,
    "slideshow": {
     "slide_type": "slide"
    },
    "tags": []
   },
   "source": [
    "# Deep Convolutional Generative Adversarial Networks\n",
    "\n",
    "we introduced the basic ideas behind how GANs work. We showed that they can draw samples from some simple, easy-to-sample distribution, like a uniform or normal distribution, and transform them into samples that appear to match the distribution of some dataset. And while our example of matching a 2D Gaussian distribution got the point across, it is not especially exciting.\n",
    "\n",
    "In this section, we will demonstrate how you can use GANs to generate photorealistic images. We will be basing our models on the deep convolutional GANs (DCGAN) introduced in :cite:`Radford.Metz.Chintala.2015`. We will borrow the convolutional architecture that have proven so successful for discriminative computer vision problems and show how via GANs, they can be leveraged to generate photorealistic images."
   ]
  },
  {
   "cell_type": "code",
   "execution_count": 77,
   "metadata": {
    "attributes": {
     "classes": [],
     "id": "",
     "n": "1"
    },
    "graffitiCellId": "id_cvcd9mu",
    "id": "EF7985D16EF74FC99C139730F46B293D",
    "jupyter": {},
    "scrolled": false,
    "slideshow": {
     "slide_type": "slide"
    },
    "tags": []
   },
   "outputs": [
    {
     "name": "stdout",
     "output_type": "stream",
     "text": [
      "False\n"
     ]
    }
   ],
   "source": [
    "import matplotlib.pyplot as plt\n",
    "from torch.utils.data import DataLoader\n",
    "from torch import nn\n",
    "import numpy as np\n",
    "from torch.autograd import Variable\n",
    "import torch\n",
    "from torchvision.datasets import ImageFolder\n",
    "from torchvision.transforms import transforms\n",
    "import zipfile\n",
    "cuda = True if torch.cuda.is_available() else False\n",
    "print(cuda)"
   ]
  },
  {
   "cell_type": "markdown",
   "metadata": {
    "graffitiCellId": "id_n7p7u54",
    "id": "EEBE49404E624C5BB52CFFF630D34375",
    "jupyter": {},
    "mdEditEnable": false,
    "slideshow": {
     "slide_type": "slide"
    },
    "tags": []
   },
   "source": [
    "## The Pokemon Dataset\n",
    "\n",
    "The dataset we will use is a collection of Pokemon sprites obtained from [pokemondb](https://pokemondb.net/sprites). First download, extract and load this dataset."
   ]
  },
  {
   "cell_type": "markdown",
   "metadata": {
    "graffitiCellId": "id_6auh67d",
    "id": "2F378B9E5C754D64843F7E42B467B245",
    "jupyter": {},
    "mdEditEnable": false,
    "slideshow": {
     "slide_type": "slide"
    },
    "tags": []
   },
   "source": [
    "We resize each image into $64\\times 64$. The `ToTensor` transformation will project the pixel value into $[0, 1]$, while our generator will use the tanh function to obtain outputs in $[-1, 1]$. Therefore we normalize the data with $0.5$ mean and $0.5$ standard deviation to match the value range."
   ]
  },
  {
   "cell_type": "code",
   "execution_count": 78,
   "metadata": {
    "attributes": {
     "classes": [],
     "id": "",
     "n": "3"
    },
    "graffitiCellId": "id_d8f9dcp",
    "id": "DA24565845CA418CB718F40ED99347C8",
    "jupyter": {},
    "scrolled": false,
    "slideshow": {
     "slide_type": "slide"
    },
    "tags": []
   },
   "outputs": [],
   "source": [
    "data_dir='/home/xixixi/桌面/Dive-into-DL-PyTorch/data/pokemon-images-and-types/images'\n",
    "batch_size=256\n",
    "transform=transforms.Compose([\n",
    "    transforms.Resize((64,64)),\n",
    "    transforms.ToTensor(),\n",
    "    transforms.Normalize((0.5,0.5,0.5),(0.5,0.5,0.5))\n",
    "])\n",
    "pokemon=ImageFolder(data_dir,transform)\n",
    "data_iter=DataLoader(pokemon,batch_size=batch_size,shuffle=True)"
   ]
  },
  {
   "cell_type": "markdown",
   "metadata": {
    "graffitiCellId": "id_ysau10i",
    "id": "C2E5276764E84908980E17A01E82BB0E",
    "jupyter": {},
    "mdEditEnable": false,
    "slideshow": {
     "slide_type": "slide"
    },
    "tags": []
   },
   "source": [
    "Let's visualize the first 20 images."
   ]
  },
  {
   "cell_type": "code",
   "execution_count": 79,
   "metadata": {
    "attributes": {
     "classes": [],
     "id": "",
     "n": "4"
    },
    "graffitiCellId": "id_eir3a70",
    "id": "0106E502D1D840CF8557FCDFFB22742A",
    "jupyter": {},
    "scrolled": false,
    "slideshow": {
     "slide_type": "slide"
    },
    "tags": []
   },
   "outputs": [
    {
     "name": "stdout",
     "output_type": "stream",
     "text": [
      "(120, 120, 4)\n"
     ]
    },
    {
     "data": {
      "image/png": "[encoded data removed]",
      "text/plain": [
       "<Figure size 288x288 with 20 Axes>"
      ]
     },
     "metadata": {
      "needs_background": "light"
     },
     "output_type": "display_data"
    }
   ],
   "source": [
    "fig=plt.figure(figsize=(4,4))\n",
    "imgs=data_iter.dataset.imgs\n",
    "b = plt.imread(imgs[40][0])#看个数据大小玩玩\n",
    "print(b.shape)\n",
    "for i in range(20):\n",
    "    img = plt.imread(imgs[i*40][0])\n",
    "    plt.subplot(4,5,i+1)\n",
    "    plt.imshow(img)\n",
    "    plt.axis('off')\n",
    "plt.show()"
   ]
  },
  {
   "cell_type": "markdown",
   "metadata": {
    "graffitiCellId": "id_w4wzsea",
    "id": "5C28D43EE05D43738CD229AD028B6F0F",
    "jupyter": {},
    "mdEditEnable": false,
    "slideshow": {
     "slide_type": "slide"
    },
    "tags": []
   },
   "source": [
    "## The Generator\n",
    "\n",
    "The generator needs to map the noise variable $\\mathbf z\\in\\mathbb R^d$, a length-$d$ vector, to a RGB image with width and height to be $64\\times 64$ . In :numref:`sec_fcn` we introduced the fully convolutional network that uses transposed convolution layer（转置卷积层对噪声进行放大到图片大小） (refer to :numref:`sec_transposed_conv`) to enlarge input size. The basic block of the generator contains a transposed convolution layer followed by the batch normalization and ReLU activation."
   ]
  },
  {
   "cell_type": "code",
   "execution_count": 80,
   "metadata": {
    "attributes": {
     "classes": [],
     "id": "",
     "n": "5"
    },
    "graffitiCellId": "id_kcbnh1m",
    "id": "13A8524A3D784D66AF23F658D854806A",
    "jupyter": {},
    "scrolled": false,
    "slideshow": {
     "slide_type": "slide"
    },
    "tags": []
   },
   "outputs": [],
   "source": [
    "class G_block(nn.Module):\n",
    "    def __init__(self, in_channels, out_channels, kernel_size=4,strides=2, padding=1):\n",
    "        super(G_block,self).__init__()\n",
    "        self.conv2d_trans=nn.ConvTranspose2d(in_channels, out_channels, kernel_size=kernel_size,\n",
    "                                             stride=strides, padding=padding, bias=False)\n",
    "        self.batch_norm=nn.BatchNorm2d(out_channels,0.8)\n",
    "        self.activation=nn.ReLU()\n",
    "    def forward(self,x):\n",
    "        return self.activation(self.batch_norm(self.conv2d_trans(x)))"
   ]
  },
  {
   "cell_type": "markdown",
   "metadata": {
    "graffitiCellId": "id_t731jok",
    "id": "B62B15D5AA954BA896FBD8C61F40D0D3",
    "jupyter": {},
    "mdEditEnable": false,
    "slideshow": {
     "slide_type": "slide"
    },
    "tags": []
   },
   "source": [
    "In default, the transposed convolution layer uses a $k_h = k_w = 4$ kernel, a $s_h = s_w = 2$ strides, and a $p_h = p_w = 1$ padding. With a input shape of $n_h^{'} \\times n_w^{'} = 16 \\times 16$, the generator block will double input's width and height.\n",
    "\n",
    "\n",
    "$$\n",
    "\\begin{aligned}\n",
    "n_h^{'} \\times n_w^{'} &= [(n_h k_h - (n_h-1)(k_h-s_h)- 2p_h] \\times [(n_w k_w - (n_w-1)(k_w-s_w)- 2p_w]\\\\\n",
    "  &= [(k_h + s_h (n_h-1)- 2p_h] \\times [(k_w + s_w (n_w-1)- 2p_w]\\\\\n",
    "  &= [(4 + 2 \\times (16-1)- 2 \\times 1] \\times [(4 + 2 \\times (16-1)- 2 \\times 1]\\\\\n",
    "  &= 32 \\times 32 .\\\\\n",
    "\\end{aligned}\n",
    "$$\n"
   ]
  },
  {
   "cell_type": "code",
   "execution_count": 81,
   "metadata": {
    "attributes": {
     "classes": [],
     "id": "",
     "n": "6"
    },
    "graffitiCellId": "id_on8avly",
    "id": "42A9BB159B494CE49E2E843B61D18D3F",
    "jupyter": {},
    "scrolled": false,
    "slideshow": {
     "slide_type": "slide"
    },
    "tags": []
   },
   "outputs": [
    {
     "name": "stdout",
     "output_type": "stream",
     "text": [
      "torch.Size([2, 20, 32, 32])\n"
     ]
    }
   ],
   "source": [
    "Tensor=torch.FloatTensor\n",
    "x=Variable(Tensor(np.zeros((2,3,16,16))))\n",
    "g_blk=G_block(3,20)\n",
    "#g_blk.cuda()\n",
    "print(g_blk(x).shape)"
   ]
  },
  {
   "cell_type": "markdown",
   "metadata": {
    "graffitiCellId": "id_2o68o2c",
    "id": "BE982C2C1F0B4C678C1832271FF89010",
    "jupyter": {},
    "mdEditEnable": false,
    "slideshow": {
     "slide_type": "slide"
    },
    "tags": []
   },
   "source": [
    "If changing the transposed convolution layer to a $4\\times 4$ kernel, $1\\times 1$ strides and zero padding. With a input size of $1 \\times 1$, the output will have its width and height increased by 3 respectively."
   ]
  },
  {
   "cell_type": "code",
   "execution_count": 83,
   "metadata": {
    "attributes": {
     "classes": [],
     "id": "",
     "n": "7"
    },
    "graffitiCellId": "id_ohaef4t",
    "id": "8F915B91477F45F197CC00A520BDD33B",
    "jupyter": {},
    "scrolled": false,
    "slideshow": {
     "slide_type": "slide"
    },
    "tags": []
   },
   "outputs": [
    {
     "name": "stdout",
     "output_type": "stream",
     "text": [
      "torch.Size([2, 20, 4, 4])\n"
     ]
    }
   ],
   "source": [
    "x=Variable(Tensor(np.zeros((2,3,1,1))))\n",
    "g_blk=G_block(3,20,strides=1,padding=0)\n",
    "#g_blk.cuda()\n",
    "print(g_blk(x).shape)"
   ]
  },
  {
   "cell_type": "markdown",
   "metadata": {
    "graffitiCellId": "id_coxkw3t",
    "id": "E7A9540D2F2B4959B62BA1A1117D558A",
    "jupyter": {},
    "mdEditEnable": false,
    "slideshow": {
     "slide_type": "slide"
    },
    "tags": []
   },
   "source": [
    "The generator consists of four basic blocks that increase input's both width and height from 1 to 32. At the same time, it first projects the latent variable into $64\\times 8$ channels, and then halve the channels each time. At last, a transposed convolution layer is used to generate the output. It further doubles the width and height to match the desired $64\\times 64$ shape, and reduces the channel size to $3$. The tanh activation function is applied to project output values into the $(-1, 1)$ range."
   ]
  },
  {
   "cell_type": "code",
   "execution_count": 84,
   "metadata": {
    "attributes": {
     "classes": [],
     "id": "",
     "n": "8"
    },
    "graffitiCellId": "id_ol5nbva",
    "id": "93A7C73CB7B848B686DB37C5A4E8DF1B",
    "jupyter": {},
    "scrolled": false,
    "slideshow": {
     "slide_type": "slide"
    },
    "tags": []
   },
   "outputs": [],
   "source": [
    "class net_G(nn.Module):\n",
    "    def __init__(self,in_channels):\n",
    "        super(net_G,self).__init__()\n",
    "\n",
    "        n_G=64\n",
    "        self.model=nn.Sequential(\n",
    "            G_block(in_channels,n_G*8,strides=1,padding=0),\n",
    "            G_block(n_G*8,n_G*4),\n",
    "            G_block(n_G*4,n_G*2),\n",
    "            G_block(n_G*2,n_G),\n",
    "            nn.ConvTranspose2d(\n",
    "                n_G,3,kernel_size=4,stride=2,padding=1,bias=False\n",
    "            ),#转置卷积层enlarge\n",
    "            nn.Tanh() #激活函数\n",
    "        )\n",
    "    def forward(self,x):\n",
    "        x=self.model(x)\n",
    "        return x\n",
    "\n",
    "\n",
    "def weights_init_normal(m):\n",
    "    classname = m.__class__.__name__\n",
    "    if classname.find(\"Conv\") != -1:\n",
    "        torch.nn.init.normal_(m.weight.data, mean=0, std=0.02)\n",
    "    elif classname.find(\"BatchNorm2d\") != -1:\n",
    "        torch.nn.init.normal_(m.weight.data, mean=1.0, std=0.02)\n",
    "        torch.nn.init.constant_(m.bias.data, 0.0)"
   ]
  },
  {
   "cell_type": "markdown",
   "metadata": {
    "graffitiCellId": "id_ut6tdcd",
    "id": "D86B501F61AA4712A840F72E5F12BBAF",
    "jupyter": {},
    "mdEditEnable": false,
    "slideshow": {
     "slide_type": "slide"
    },
    "tags": []
   },
   "source": [
    "Generate a 100 dimensional latent variable to verify the generator's output shape."
   ]
  },
  {
   "cell_type": "code",
   "execution_count": 85,
   "metadata": {
    "attributes": {
     "classes": [],
     "id": "",
     "n": "9"
    },
    "graffitiCellId": "id_z51zod2",
    "id": "D94838D3C7E84FD3A4B8CDEF6FFFD23B",
    "jupyter": {},
    "scrolled": false,
    "slideshow": {
     "slide_type": "slide"
    },
    "tags": []
   },
   "outputs": [
    {
     "name": "stdout",
     "output_type": "stream",
     "text": [
      "torch.Size([1, 3, 64, 64])\n"
     ]
    }
   ],
   "source": [
    "x=Variable(Tensor(np.zeros((1,100,1,1))))\n",
    "generator=net_G(100)\n",
    "#generator.cuda()\n",
    "generator.apply(weights_init_normal)\n",
    "print(generator(x).shape)"
   ]
  },
  {
   "cell_type": "markdown",
   "metadata": {
    "graffitiCellId": "id_i42g9u2",
    "id": "0BE3A58F5A6A4C4F92BEECD84B64C10B",
    "jupyter": {},
    "mdEditEnable": false,
    "slideshow": {
     "slide_type": "slide"
    },
    "tags": []
   },
   "source": [
    "## Discriminator\n",
    "\n",
    "The discriminator is a normal convolutional network network except that it uses a leaky ReLU as its activation function. Given $\\alpha \\in[0, 1]$, its definition is\n",
    "\n",
    "\n",
    "$$\n",
    "\\textrm{leaky ReLU}(x) = \\begin{cases}x & \\text{if}\\ x > 0\\\\ \\alpha x &\\text{otherwise}\\end{cases}.\n",
    "$$\n",
    "\n",
    "\n",
    "As it can be seen, it is normal ReLU if $\\alpha=0$, and an identity function if $\\alpha=1$. For $\\alpha \\in (0, 1)$, leaky ReLU is a nonlinear function that give a non-zero output for a negative input. It aims to fix the \"dying ReLU\" problem that a neuron might always output a negative value and therefore cannot make any progress since the gradient of ReLU is 0."
   ]
  },
  {
   "cell_type": "code",
   "execution_count": 86,
   "metadata": {
    "attributes": {
     "classes": [],
     "id": "",
     "n": "10"
    },
    "graffitiCellId": "id_4tobxs3",
    "id": "9AA265C8E2D54CB7851745C8BB41C84B",
    "jupyter": {},
    "scrolled": false,
    "slideshow": {
     "slide_type": "slide"
    },
    "tags": []
   },
   "outputs": [
    {
     "data": {
      "image/png": "[encoded data removed]",
      "text/plain": [
       "<Figure size 288x288 with 1 Axes>"
      ]
     },
     "metadata": {
      "needs_background": "light"
     },
     "output_type": "display_data"
    }
   ],
   "source": [
    "alphas = [0, 0.2, 0.4, .6]\n",
    "x = np.arange(-2, 1, 0.1)\n",
    "Y = [nn.LeakyReLU(alpha)(Tensor(x)).cpu().numpy()for alpha in alphas]\n",
    "plt.figure(figsize=(4,4))\n",
    "for y in Y:\n",
    "    plt.plot(x,y)\n",
    "plt.show()"
   ]
  },
  {
   "cell_type": "markdown",
   "metadata": {
    "graffitiCellId": "id_rua557b",
    "id": "CC773AE0204644A28D8F3E33D57526FA",
    "jupyter": {},
    "mdEditEnable": false,
    "slideshow": {
     "slide_type": "slide"
    },
    "tags": []
   },
   "source": [
    "The basic block of the discriminator is a convolution layer followed by a batch normalization layer and a leaky ReLU activation. The hyper-parameters of the convolution layer are similar to the transpose convolution layer in the generator block."
   ]
  },
  {
   "cell_type": "code",
   "execution_count": 87,
   "metadata": {
    "attributes": {
     "classes": [],
     "id": "",
     "n": "11"
    },
    "graffitiCellId": "id_sg2bxuv",
    "id": "F3165E3CEE2A415F8A3858B0E68F43C6",
    "jupyter": {},
    "scrolled": false,
    "slideshow": {
     "slide_type": "slide"
    },
    "tags": []
   },
   "outputs": [],
   "source": [
    "class D_block(nn.Module):\n",
    "    def __init__(self,in_channels,out_channels,kernel_size=4,strides=2,\n",
    "                 padding=1,alpha=0.2):\n",
    "        super(D_block,self).__init__()\n",
    "        self.conv2d=nn.Conv2d(in_channels,out_channels,kernel_size,strides,padding,bias=False)\n",
    "        self.batch_norm=nn.BatchNorm2d(out_channels,0.8)\n",
    "        self.activation=nn.LeakyReLU(alpha)\n",
    "    def forward(self,X):\n",
    "        return self.activation(self.batch_norm(self.conv2d(X)))"
   ]
  },
  {
   "cell_type": "markdown",
   "metadata": {
    "graffitiCellId": "id_93f29b5",
    "id": "AEF7893313BA46998E2DE2193AE15E15",
    "jupyter": {},
    "mdEditEnable": false,
    "slideshow": {
     "slide_type": "slide"
    },
    "tags": []
   },
   "source": [
    "A basic block with default settings will halve the width and height of the inputs, as we demonstrated in :numref:`sec_padding`. For example, given a input shape $n_h = n_w = 16 $, with a kernel shape $k_h = k_w = 4$, a stride shape $s_h = s_w = 2$, and a padding shape $p_h = p_w = 1$, the output shape will be:\n",
    "\n",
    "\n",
    "$$\n",
    "\\begin{aligned}\n",
    "n_h^{'} \\times n_w^{'} &= \\lfloor(n_h-k_h+2p_h+s_h)/s_h\\rfloor \\times \\lfloor(n_w-k_w+2p_w+s_w)/s_w\\rfloor\\\\\n",
    "  &= \\lfloor(16-4+2\\times 1+2)/2\\rfloor \\times \\lfloor(16-4+2\\times 1+2)/2\\rfloor\\\\\n",
    "  &= 8 \\times 8 .\\\\\n",
    "\\end{aligned}\n",
    "$$\n"
   ]
  },
  {
   "cell_type": "code",
   "execution_count": 88,
   "metadata": {
    "attributes": {
     "classes": [],
     "id": "",
     "n": "12"
    },
    "graffitiCellId": "id_hi27kkc",
    "id": "3FC84D35530C4863AC53C2AA82414228",
    "jupyter": {},
    "scrolled": false,
    "slideshow": {
     "slide_type": "slide"
    },
    "tags": []
   },
   "outputs": [
    {
     "name": "stdout",
     "output_type": "stream",
     "text": [
      "torch.Size([2, 20, 8, 8])\n"
     ]
    }
   ],
   "source": [
    "x = Variable(Tensor(np.zeros((2, 3, 16, 16))))\n",
    "d_blk = D_block(3,20)\n",
    "#d_blk.cuda()\n",
    "print(d_blk(x).shape)"
   ]
  },
  {
   "cell_type": "markdown",
   "metadata": {
    "graffitiCellId": "id_gh8rm9u",
    "id": "B8FF92411A3A4BF3B528713D754438C6",
    "jupyter": {},
    "mdEditEnable": false,
    "slideshow": {
     "slide_type": "slide"
    },
    "tags": []
   },
   "source": [
    "The discriminator is a mirror of the generator."
   ]
  },
  {
   "cell_type": "code",
   "execution_count": 89,
   "metadata": {
    "attributes": {
     "classes": [],
     "id": "",
     "n": "13"
    },
    "graffitiCellId": "id_ilwjbsk",
    "id": "BC124154CD234BDDAF91592CA31C514E",
    "jupyter": {},
    "scrolled": false,
    "slideshow": {
     "slide_type": "slide"
    },
    "tags": []
   },
   "outputs": [],
   "source": [
    "class net_D(nn.Module):\n",
    "    def __init__(self,in_channels):\n",
    "        super(net_D,self).__init__()\n",
    "        n_D=64\n",
    "        self.model=nn.Sequential(\n",
    "            D_block(in_channels,n_D),\n",
    "            D_block(n_D,n_D*2),\n",
    "            D_block(n_D*2,n_D*4),\n",
    "            D_block(n_D*4,n_D*8)\n",
    "        )\n",
    "        self.conv=nn.Conv2d(n_D*8,1,kernel_size=4,bias=False)\n",
    "        self.activation=nn.Sigmoid()\n",
    "        # self._initialize_weights()\n",
    "    def forward(self,x):\n",
    "        x=self.model(x)\n",
    "        x=self.conv(x)\n",
    "        x=self.activation(x)\n",
    "        return x"
   ]
  },
  {
   "cell_type": "markdown",
   "metadata": {
    "graffitiCellId": "id_3mhtj2z",
    "id": "71310D73F4544ADD8D37681AE7667A81",
    "jupyter": {},
    "mdEditEnable": false,
    "slideshow": {
     "slide_type": "slide"
    },
    "tags": []
   },
   "source": [
    "It uses a convolution layer with output channel $1$ as the last layer to obtain a single prediction value."
   ]
  },
  {
   "cell_type": "code",
   "execution_count": 90,
   "metadata": {
    "attributes": {
     "classes": [],
     "id": "",
     "n": "15"
    },
    "graffitiCellId": "id_uurforl",
    "id": "7C74B6FF8DBE42DDA521E38429DA77D4",
    "jupyter": {},
    "scrolled": false,
    "slideshow": {
     "slide_type": "slide"
    },
    "tags": []
   },
   "outputs": [
    {
     "name": "stdout",
     "output_type": "stream",
     "text": [
      "torch.Size([1, 1, 1, 1])\n"
     ]
    }
   ],
   "source": [
    "x = Variable(Tensor(np.zeros((1, 3, 64, 64))))\n",
    "discriminator=net_D(3)\n",
    "#discriminator.cuda()\n",
    "discriminator.apply(weights_init_normal)\n",
    "print(discriminator(x).shape)"
   ]
  },
  {
   "cell_type": "markdown",
   "metadata": {
    "graffitiCellId": "id_v5ytu3j",
    "id": "FC1CD12966AA4B8D8F7AAA803EA8F20E",
    "jupyter": {},
    "mdEditEnable": false,
    "slideshow": {
     "slide_type": "slide"
    },
    "tags": []
   },
   "source": [
    "## Training\n",
    "Compared to the basic GAN in :numref:`sec_basic_gan`, we use the same learning rate for both generator and discriminator since they are similar to each other. In addition, we change $\\beta_1$ in Adam (:numref:`sec_adam`) from $0.9$ to $0.5$. It decreases the smoothness of the momentum, the exponentially weighted moving average of past gradients, to take care of the rapid changing gradients because the generator and the discriminator fight with each other. Besides, the random generated noise `Z`, is a 4-D tensor and we are using GPU to accelerate the computation."
   ]
  },
  {
   "cell_type": "code",
   "execution_count": 95,
   "metadata": {
    "attributes": {
     "classes": [],
     "id": "",
     "n": "20"
    },
    "graffitiCellId": "id_yuwepmb",
    "id": "00EF240EB4824D6185F29716E49020E6",
    "jupyter": {},
    "scrolled": false,
    "slideshow": {
     "slide_type": "slide"
    },
    "tags": []
   },
   "outputs": [],
   "source": [
    "def update_D(X,Z,net_D,net_G,loss,trainer_D):\n",
    "    batch_size=X.shape[0]\n",
    "    Tensor=torch.FloatTensor\n",
    "    ones=Variable(Tensor(np.ones(batch_size,)),requires_grad=False).view(batch_size,1)\n",
    "    zeros = Variable(Tensor(np.zeros(batch_size,)),requires_grad=False).view(batch_size,1)\n",
    "    real_Y=net_D(X).view(batch_size,-1)\n",
    "    fake_X=net_G(Z)\n",
    "    fake_Y=net_D(fake_X).view(batch_size,-1)\n",
    "    loss_D=(loss(real_Y,ones)+loss(fake_Y,zeros))/2\n",
    "    loss_D.backward()\n",
    "    trainer_D.step()\n",
    "    return float(loss_D.sum())\n",
    "\n",
    "def update_G(Z,net_D,net_G,loss,trainer_G):\n",
    "    batch_size=Z.shape[0]\n",
    "    Tensor=torch.FloatTensor\n",
    "    ones=Variable(Tensor(np.ones((batch_size,))),requires_grad=False).view(batch_size,1)\n",
    "    fake_X=net_G(Z)\n",
    "    fake_Y=net_D(fake_X).view(batch_size,-1)\n",
    "    loss_G=loss(fake_Y,ones)\n",
    "    loss_G.backward()\n",
    "    trainer_G.step()\n",
    "    return float(loss_G.sum())\n",
    "\n",
    "\n",
    "def train(net_D,net_G,data_iter,num_epochs,lr,latent_dim):\n",
    "    loss=nn.BCELoss() #交叉商损失\n",
    "    Tensor=torch.FloatTensor\n",
    "    trainer_D=torch.optim.Adam(net_D.parameters(),lr=lr,betas=(0.5,0.999))\n",
    "    trainer_G=torch.optim.Adam(net_G.parameters(),lr=lr,betas=(0.5,0.999))\n",
    "    plt.figure(figsize=(7,4))\n",
    "    d_loss_point=[]\n",
    "    g_loss_point=[]\n",
    "    d_loss=0\n",
    "    g_loss=0\n",
    "    for epoch in range(1,num_epochs+1):\n",
    "        d_loss_sum=0\n",
    "        g_loss_sum=0\n",
    "        batch=0\n",
    "        for X in data_iter:\n",
    "            X=X[:][0]\n",
    "            batch+=1\n",
    "            X=Variable(X.type(Tensor))\n",
    "            batch_size=X.shape[0]\n",
    "            Z=Variable(Tensor(np.random.normal(0,1,(batch_size,latent_dim,1,1))))\n",
    "\n",
    "            trainer_D.zero_grad()\n",
    "            d_loss = update_D(X, Z, net_D, net_G, loss, trainer_D)\n",
    "            d_loss_sum+=d_loss\n",
    "            trainer_G.zero_grad()\n",
    "            g_loss = update_G(Z, net_D, net_G, loss, trainer_G)\n",
    "            g_loss_sum+=g_loss\n",
    "\n",
    "        d_loss_point.append(d_loss_sum/batch)\n",
    "        g_loss_point.append(g_loss_sum/batch)\n",
    "        print(\n",
    "            \"[Epoch %d/%d]  [D loss: %f] [G loss: %f]\"\n",
    "            % (epoch, num_epochs,  d_loss_sum/batch_size,  g_loss_sum/batch_size)\n",
    "        )\n",
    "\n",
    "\n",
    "    plt.ylabel('Loss', fontdict={ 'size': 14})\n",
    "    plt.xlabel('epoch', fontdict={ 'size': 14})\n",
    "    plt.xticks(range(0,num_epochs+1,3))\n",
    "    plt.plot(range(1,num_epochs+1),d_loss_point,color='orange',label='discriminator')\n",
    "    plt.plot(range(1,num_epochs+1),g_loss_point,color='blue',label='generator')\n",
    "    plt.legend()\n",
    "    plt.show()\n",
    "    print(d_loss,g_loss)\n",
    "\n",
    "    Z = Variable(Tensor(np.random.normal(0, 1, size=(21, latent_dim, 1, 1))),requires_grad=False)\n",
    "    fake_x = generator(Z)\n",
    "    fake_x=fake_x.cpu().detach().numpy()\n",
    "    plt.figure(figsize=(14,6))\n",
    "    for i in range(21):\n",
    "        im=np.transpose(fake_x[i])\n",
    "        plt.subplot(3,7,i+1)\n",
    "        plt.imshow(im)\n",
    "    plt.show()"
   ]
  },
  {
   "cell_type": "markdown",
   "metadata": {
    "graffitiCellId": "id_4qjnatu",
    "id": "B5C0EEA901304E828203209D9C5BED94",
    "jupyter": {},
    "mdEditEnable": false,
    "slideshow": {
     "slide_type": "slide"
    },
    "tags": []
   },
   "source": [
    "Now let's train the model."
   ]
  },
  {
   "cell_type": "code",
   "execution_count": null,
   "metadata": {
    "attributes": {
     "classes": [],
     "id": "",
     "n": "21"
    },
    "graffitiCellId": "id_739lwqb",
    "id": "349B9D241985452689DD2AF72D5002FE",
    "jupyter": {},
    "scrolled": false,
    "slideshow": {
     "slide_type": "slide"
    },
    "tags": []
   },
   "outputs": [
    {
     "name": "stdout",
     "output_type": "stream",
     "text": [
      "[Epoch 1/50]  [D loss: 0.081560] [G loss: 0.609892]\n",
      "[Epoch 2/50]  [D loss: 0.518343] [G loss: 0.730077]\n",
      "[Epoch 3/50]  [D loss: 0.429922] [G loss: 1.691703]\n",
      "[Epoch 4/50]  [D loss: 0.345148] [G loss: 1.019340]\n",
      "[Epoch 5/50]  [D loss: 0.446640] [G loss: 1.855151]\n",
      "[Epoch 6/50]  [D loss: 0.344342] [G loss: 1.157407]\n",
      "[Epoch 7/50]  [D loss: 0.388809] [G loss: 0.818480]\n",
      "[Epoch 8/50]  [D loss: 0.255178] [G loss: 0.748990]\n",
      "[Epoch 9/50]  [D loss: 0.280601] [G loss: 0.721993]\n",
      "[Epoch 10/50]  [D loss: 0.349081] [G loss: 0.916815]\n",
      "[Epoch 11/50]  [D loss: 0.359137] [G loss: 0.944219]\n",
      "[Epoch 12/50]  [D loss: 0.426732] [G loss: 0.754657]\n",
      "[Epoch 13/50]  [D loss: 0.420137] [G loss: 0.791857]\n",
      "[Epoch 14/50]  [D loss: 0.451324] [G loss: 0.764550]\n",
      "[Epoch 15/50]  [D loss: 0.402160] [G loss: 0.962707]\n",
      "[Epoch 16/50]  [D loss: 0.481900] [G loss: 0.590237]\n",
      "[Epoch 17/50]  [D loss: 0.303805] [G loss: 0.637268]\n",
      "[Epoch 18/50]  [D loss: 0.368726] [G loss: 0.546816]\n",
      "[Epoch 19/50]  [D loss: 0.357323] [G loss: 0.562827]\n",
      "[Epoch 20/50]  [D loss: 0.506035] [G loss: 0.497544]\n",
      "[Epoch 21/50]  [D loss: 0.381516] [G loss: 0.469395]\n",
      "[Epoch 22/50]  [D loss: 0.399990] [G loss: 0.544598]\n",
      "[Epoch 23/50]  [D loss: 0.379438] [G loss: 0.441762]\n",
      "[Epoch 24/50]  [D loss: 0.416102] [G loss: 0.639232]\n",
      "[Epoch 25/50]  [D loss: 0.444043] [G loss: 0.682264]\n",
      "[Epoch 26/50]  [D loss: 0.355453] [G loss: 0.589037]\n",
      "[Epoch 27/50]  [D loss: 0.386447] [G loss: 0.631571]\n",
      "[Epoch 28/50]  [D loss: 0.489719] [G loss: 0.897371]\n",
      "[Epoch 29/50]  [D loss: 0.309920] [G loss: 0.105937]\n",
      "[Epoch 30/50]  [D loss: 0.212264] [G loss: 0.267785]\n",
      "[Epoch 31/50]  [D loss: 0.339997] [G loss: 0.811365]\n",
      "[Epoch 32/50]  [D loss: 0.379007] [G loss: 0.550639]\n",
      "[Epoch 33/50]  [D loss: 0.441421] [G loss: 0.616787]\n",
      "[Epoch 34/50]  [D loss: 0.396589] [G loss: 0.557187]\n",
      "[Epoch 35/50]  [D loss: 0.410093] [G loss: 0.697745]\n",
      "[Epoch 36/50]  [D loss: 0.367569] [G loss: 0.664247]\n",
      "[Epoch 37/50]  [D loss: 0.402136] [G loss: 0.719575]\n",
      "[Epoch 38/50]  [D loss: 0.349405] [G loss: 0.590265]\n",
      "[Epoch 39/50]  [D loss: 0.347815] [G loss: 0.363574]\n",
      "[Epoch 40/50]  [D loss: 0.380820] [G loss: 0.919183]\n",
      "[Epoch 41/50]  [D loss: 0.367917] [G loss: 0.665287]\n",
      "[Epoch 42/50]  [D loss: 0.329917] [G loss: 0.541465]\n",
      "[Epoch 43/50]  [D loss: 0.278469] [G loss: 0.426392]\n",
      "[Epoch 44/50]  [D loss: 0.234289] [G loss: 0.391959]\n",
      "[Epoch 45/50]  [D loss: 0.208172] [G loss: 0.237653]\n",
      "[Epoch 46/50]  [D loss: 0.142920] [G loss: 0.202000]\n"
     ]
    }
   ],
   "source": [
    "if __name__ == '__main__':\n",
    "    lr,latent_dim,num_epochs=0.005,100,50\n",
    "    train(discriminator,generator,data_iter,num_epochs,lr,latent_dim)"
   ]
  },
  {
   "cell_type": "markdown",
   "metadata": {
    "graffitiCellId": "id_p313wu3",
    "id": "5B66A53614054FF18B9F11884A64345A",
    "jupyter": {},
    "mdEditEnable": false,
    "slideshow": {
     "slide_type": "slide"
    },
    "tags": []
   },
   "source": [
    "## Summary\n",
    "\n",
    "* DCGAN architecture has four convolutional layers for the Discriminator and four \"fractionally-strided\" convolutional layers for the Generator.\n",
    "* The Discriminator is a 4-layer strided convolutions with batch normalization (except its input layer) and leaky ReLU activations. \n",
    "* Leaky ReLU is a nonlinear function that give a non-zero output for a negative input. It aims to fix the “dying ReLU” problem and helps the gradients flow easier through the architecture.\n",
    "\n",
    "\n",
    "## Exercises\n",
    "\n",
    "* What will happen if we use standard ReLU activation rather than leaky ReLU?\n",
    "* Apply DCGAN on Fashion-MNIST and see which category works well and which does not.\n"
   ]
  },
  {
   "cell_type": "code",
   "execution_count": null,
   "metadata": {
    "id": "A8B357578FD64AF48FBAB14D3800E444",
    "jupyter": {},
    "slideshow": {
     "slide_type": "slide"
    },
    "tags": []
   },
   "outputs": [],
   "source": []
  }
 ],
 "metadata": {
  "kernelspec": {
   "display_name": "Python 3",
   "language": "python",
   "name": "python3"
  },
  "language_info": {
   "codemirror_mode": {
    "name": "ipython",
    "version": 3
   },
   "file_extension": ".py",
   "mimetype": "text/x-python",
   "name": "python",
   "nbconvert_exporter": "python",
   "pygments_lexer": "ipython3",
   "version": "3.7.4"
  }
 },
 "nbformat": 4,
 "nbformat_minor": 2
}
