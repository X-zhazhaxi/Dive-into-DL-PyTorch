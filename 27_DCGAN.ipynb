{
 "cells": [
  {
   "attachments": {},
   "cell_type": "markdown",
   "metadata": {
    "graffitiCellId": "id_4o9jvsh",
    "id": "E5E7AD87C95F4C6E844942E1958748A5",
    "jupyter": {},
    "mdEditEnable": false,
    "slideshow": {
     "slide_type": "slide"
    },
    "tags": []
   },
   "source": [
    "# Deep Convolutional Generative Adversarial Networks\n",
    "\n",
    "we introduced the basic ideas behind how GANs work. We showed that they can draw samples from some simple, easy-to-sample distribution, like a uniform or normal distribution, and transform them into samples that appear to match the distribution of some dataset. And while our example of matching a 2D Gaussian distribution got the point across, it is not especially exciting.\n",
    "\n",
    "In this section, we will demonstrate how you can use GANs to generate photorealistic images. We will be basing our models on the deep convolutional GANs (DCGAN) introduced in :cite:`Radford.Metz.Chintala.2015`. We will borrow the convolutional architecture that have proven so successful for discriminative computer vision problems and show how via GANs, they can be leveraged to generate photorealistic images.\n",
    "\n",
    "- 取消所有pooling层，G网络中使用转置卷积（transposed convolutional layer）进行上采样，D网络中加入stride的卷积代替pooling\n",
    "- 在D和G中均使用batch normalization\n",
    "- 去掉FC层，使网络变为全卷积网络\n",
    "- G网络中使用ReLU作为激活函数，最后一层使用tanh\n",
    "- D网络中使用LeakyReLU作为激活函数\n",
    "\n",
    "G网络示意图\n",
    "![image.png](https://pic2.zhimg.com/80/v2-1c06594f38b896e8d15154592bae0309_720w.jpg)\n"
   ]
  },
  {
   "cell_type": "code",
   "execution_count": 97,
   "metadata": {
    "attributes": {
     "classes": [],
     "id": "",
     "n": "1"
    },
    "graffitiCellId": "id_cvcd9mu",
    "id": "EF7985D16EF74FC99C139730F46B293D",
    "jupyter": {},
    "scrolled": false,
    "slideshow": {
     "slide_type": "slide"
    },
    "tags": []
   },
   "outputs": [
    {
     "name": "stdout",
     "output_type": "stream",
     "text": [
      "False\n"
     ]
    }
   ],
   "source": [
    "import matplotlib.pyplot as plt\n",
    "from torch.utils.data import DataLoader\n",
    "from torch import nn\n",
    "import numpy as np\n",
    "from torch.autograd import Variable\n",
    "import torch\n",
    "from torchvision.datasets import ImageFolder\n",
    "from torchvision.transforms import transforms\n",
    "import zipfile\n",
    "cuda = True if torch.cuda.is_available() else False\n",
    "print(cuda)"
   ]
  },
  {
   "cell_type": "markdown",
   "metadata": {
    "graffitiCellId": "id_n7p7u54",
    "id": "EEBE49404E624C5BB52CFFF630D34375",
    "jupyter": {},
    "mdEditEnable": false,
    "slideshow": {
     "slide_type": "slide"
    },
    "tags": []
   },
   "source": [
    "## The Pokemon Dataset\n",
    "\n",
    "The dataset we will use is a collection of Pokemon sprites obtained from [pokemondb](https://pokemondb.net/sprites). First download, extract and load this dataset."
   ]
  },
  {
   "cell_type": "markdown",
   "metadata": {
    "graffitiCellId": "id_6auh67d",
    "id": "2F378B9E5C754D64843F7E42B467B245",
    "jupyter": {},
    "mdEditEnable": false,
    "slideshow": {
     "slide_type": "slide"
    },
    "tags": []
   },
   "source": [
    "We resize each image into $64\\times 64$. The `ToTensor` transformation will project the pixel value into $[0, 1]$, while our generator will use the tanh function to obtain outputs in $[-1, 1]$. Therefore we normalize the data with $0.5$ mean and $0.5$ standard deviation to match the value range."
   ]
  },
  {
   "cell_type": "code",
   "execution_count": 98,
   "metadata": {
    "attributes": {
     "classes": [],
     "id": "",
     "n": "3"
    },
    "graffitiCellId": "id_d8f9dcp",
    "id": "DA24565845CA418CB718F40ED99347C8",
    "jupyter": {},
    "scrolled": false,
    "slideshow": {
     "slide_type": "slide"
    },
    "tags": []
   },
   "outputs": [],
   "source": [
    "data_dir='/home/xixixi/桌面/Dive-into-DL-PyTorch/data/pokemon-images-and-types/images'\n",
    "batch_size=25\n",
    "transform=transforms.Compose([\n",
    "    transforms.Resize((64,64)),\n",
    "    transforms.ToTensor(),\n",
    "    transforms.Normalize((0.5,0.5,0.5),(0.5,0.5,0.5))\n",
    "])\n",
    "pokemon=ImageFolder(data_dir,transform)\n",
    "data_iter=DataLoader(pokemon,batch_size=batch_size,shuffle=True)"
   ]
  },
  {
   "cell_type": "markdown",
   "metadata": {
    "graffitiCellId": "id_ysau10i",
    "id": "C2E5276764E84908980E17A01E82BB0E",
    "jupyter": {},
    "mdEditEnable": false,
    "slideshow": {
     "slide_type": "slide"
    },
    "tags": []
   },
   "source": [
    "Let's visualize the first 20 images."
   ]
  },
  {
   "cell_type": "code",
   "execution_count": 99,
   "metadata": {
    "attributes": {
     "classes": [],
     "id": "",
     "n": "4"
    },
    "graffitiCellId": "id_eir3a70",
    "id": "0106E502D1D840CF8557FCDFFB22742A",
    "jupyter": {},
    "scrolled": false,
    "slideshow": {
     "slide_type": "slide"
    },
    "tags": []
   },
   "outputs": [
    {
     "name": "stdout",
     "output_type": "stream",
     "text": [
      "(120, 120, 4)\n"
     ]
    },
    {
     "data": {
      "image/png": "[encoded data removed]",
      "text/plain": [
       "<Figure size 288x288 with 20 Axes>"
      ]
     },
     "metadata": {
      "needs_background": "light"
     },
     "output_type": "display_data"
    }
   ],
   "source": [
    "fig=plt.figure(figsize=(4,4))\n",
    "imgs=data_iter.dataset.imgs\n",
    "b = plt.imread(imgs[40][0])#看个数据大小玩玩\n",
    "print(b.shape)\n",
    "for i in range(20):\n",
    "    img = plt.imread(imgs[i*40][0])\n",
    "    plt.subplot(4,5,i+1)\n",
    "    plt.imshow(img)\n",
    "    plt.axis('off')\n",
    "plt.show()"
   ]
  },
  {
   "cell_type": "markdown",
   "metadata": {
    "graffitiCellId": "id_w4wzsea",
    "id": "5C28D43EE05D43738CD229AD028B6F0F",
    "jupyter": {},
    "mdEditEnable": false,
    "slideshow": {
     "slide_type": "slide"
    },
    "tags": []
   },
   "source": [
    "## The Generator\n",
    "\n",
    "The generator needs to map the noise variable $\\mathbf z\\in\\mathbb R^d$, a length-$d$ vector, to a RGB image with width and height to be $64\\times 64$ . In :numref:`sec_fcn` we introduced the fully convolutional network that uses transposed convolution layer（转置卷积层对噪声进行放大到图片大小） (refer to :numref:`sec_transposed_conv`) to enlarge input size. The basic block of the generator contains a transposed convolution layer followed by the batch normalization and ReLU activation."
   ]
  },
  {
   "cell_type": "code",
   "execution_count": 100,
   "metadata": {
    "attributes": {
     "classes": [],
     "id": "",
     "n": "5"
    },
    "graffitiCellId": "id_kcbnh1m",
    "id": "13A8524A3D784D66AF23F658D854806A",
    "jupyter": {},
    "scrolled": false,
    "slideshow": {
     "slide_type": "slide"
    },
    "tags": []
   },
   "outputs": [],
   "source": [
    "class G_block(nn.Module):\n",
    "    def __init__(self, in_channels, out_channels, kernel_size=4,strides=2, padding=1):\n",
    "        super(G_block,self).__init__()\n",
    "        self.conv2d_trans=nn.ConvTranspose2d(in_channels, out_channels, kernel_size=kernel_size,\n",
    "                                             stride=strides, padding=padding, bias=False)\n",
    "        self.batch_norm=nn.BatchNorm2d(out_channels,0.8)\n",
    "        self.activation=nn.ReLU()\n",
    "    def forward(self,x):\n",
    "        return self.activation(self.batch_norm(self.conv2d_trans(x)))"
   ]
  },
  {
   "cell_type": "markdown",
   "metadata": {
    "graffitiCellId": "id_t731jok",
    "id": "B62B15D5AA954BA896FBD8C61F40D0D3",
    "jupyter": {},
    "mdEditEnable": false,
    "slideshow": {
     "slide_type": "slide"
    },
    "tags": []
   },
   "source": [
    "In default, the transposed convolution layer uses a $k_h = k_w = 4$ kernel, a $s_h = s_w = 2$ strides, and a $p_h = p_w = 1$ padding. With a input shape of $n_h^{'} \\times n_w^{'} = 16 \\times 16$, the generator block will double input's width and height.\n",
    "\n",
    "\n",
    "$$\n",
    "\\begin{aligned}\n",
    "n_h^{'} \\times n_w^{'} &= [(n_h k_h - (n_h-1)(k_h-s_h)- 2p_h] \\times [(n_w k_w - (n_w-1)(k_w-s_w)- 2p_w]\\\\\n",
    "  &= [(k_h + s_h (n_h-1)- 2p_h] \\times [(k_w + s_w (n_w-1)- 2p_w]\\\\\n",
    "  &= [(4 + 2 \\times (16-1)- 2 \\times 1] \\times [(4 + 2 \\times (16-1)- 2 \\times 1]\\\\\n",
    "  &= 32 \\times 32 .\\\\\n",
    "\\end{aligned}\n",
    "$$\n"
   ]
  },
  {
   "cell_type": "code",
   "execution_count": 101,
   "metadata": {
    "attributes": {
     "classes": [],
     "id": "",
     "n": "6"
    },
    "graffitiCellId": "id_on8avly",
    "id": "42A9BB159B494CE49E2E843B61D18D3F",
    "jupyter": {},
    "scrolled": false,
    "slideshow": {
     "slide_type": "slide"
    },
    "tags": []
   },
   "outputs": [
    {
     "name": "stdout",
     "output_type": "stream",
     "text": [
      "torch.Size([2, 20, 32, 32])\n"
     ]
    }
   ],
   "source": [
    "Tensor=torch.FloatTensor\n",
    "x=Variable(Tensor(np.zeros((2,3,16,16))))\n",
    "g_blk=G_block(3,20)\n",
    "#g_blk.cuda()\n",
    "print(g_blk(x).shape)"
   ]
  },
  {
   "cell_type": "markdown",
   "metadata": {
    "graffitiCellId": "id_2o68o2c",
    "id": "BE982C2C1F0B4C678C1832271FF89010",
    "jupyter": {},
    "mdEditEnable": false,
    "slideshow": {
     "slide_type": "slide"
    },
    "tags": []
   },
   "source": [
    "If changing the transposed convolution layer to a $4\\times 4$ kernel, $1\\times 1$ strides and zero padding. With a input size of $1 \\times 1$, the output will have its width and height increased by 3 respectively."
   ]
  },
  {
   "cell_type": "code",
   "execution_count": 102,
   "metadata": {
    "attributes": {
     "classes": [],
     "id": "",
     "n": "7"
    },
    "graffitiCellId": "id_ohaef4t",
    "id": "8F915B91477F45F197CC00A520BDD33B",
    "jupyter": {},
    "scrolled": false,
    "slideshow": {
     "slide_type": "slide"
    },
    "tags": []
   },
   "outputs": [
    {
     "name": "stdout",
     "output_type": "stream",
     "text": [
      "torch.Size([2, 20, 4, 4])\n"
     ]
    }
   ],
   "source": [
    "x=Variable(Tensor(np.zeros((2,3,1,1))))\n",
    "g_blk=G_block(3,20,strides=1,padding=0)\n",
    "#g_blk.cuda()\n",
    "print(g_blk(x).shape)"
   ]
  },
  {
   "cell_type": "markdown",
   "metadata": {
    "graffitiCellId": "id_coxkw3t",
    "id": "E7A9540D2F2B4959B62BA1A1117D558A",
    "jupyter": {},
    "mdEditEnable": false,
    "slideshow": {
     "slide_type": "slide"
    },
    "tags": []
   },
   "source": [
    "The generator consists of four basic blocks that increase input's both width and height from 1 to 32. At the same time, it first projects the latent variable into $64\\times 8$ channels, and then halve the channels each time. At last, a transposed convolution layer is used to generate the output. It further doubles the width and height to match the desired $64\\times 64$ shape, and reduces the channel size to $3$. The tanh activation function is applied to project output values into the $(-1, 1)$ range."
   ]
  },
  {
   "cell_type": "code",
   "execution_count": 103,
   "metadata": {
    "attributes": {
     "classes": [],
     "id": "",
     "n": "8"
    },
    "graffitiCellId": "id_ol5nbva",
    "id": "93A7C73CB7B848B686DB37C5A4E8DF1B",
    "jupyter": {},
    "scrolled": false,
    "slideshow": {
     "slide_type": "slide"
    },
    "tags": []
   },
   "outputs": [],
   "source": [
    "class net_G(nn.Module):\n",
    "    def __init__(self,in_channels):\n",
    "        super(net_G,self).__init__()\n",
    "\n",
    "        n_G=64\n",
    "        self.model=nn.Sequential(\n",
    "            G_block(in_channels,n_G*8,strides=1,padding=0),\n",
    "            G_block(n_G*8,n_G*4),\n",
    "            G_block(n_G*4,n_G*2),\n",
    "            G_block(n_G*2,n_G),\n",
    "            nn.ConvTranspose2d(\n",
    "                n_G,3,kernel_size=4,stride=2,padding=1,bias=False\n",
    "            ),#转置卷积层enlarge\n",
    "            nn.Tanh() #激活函数\n",
    "        )\n",
    "    def forward(self,x):\n",
    "        x=self.model(x)\n",
    "        return x\n",
    "\n",
    "\n",
    "def weights_init_normal(m):\n",
    "    classname = m.__class__.__name__\n",
    "    if classname.find(\"Conv\") != -1:\n",
    "        torch.nn.init.normal_(m.weight.data, mean=0, std=0.02)\n",
    "    elif classname.find(\"BatchNorm2d\") != -1:\n",
    "        torch.nn.init.normal_(m.weight.data, mean=1.0, std=0.02)\n",
    "        torch.nn.init.constant_(m.bias.data, 0.0)"
   ]
  },
  {
   "cell_type": "markdown",
   "metadata": {
    "graffitiCellId": "id_ut6tdcd",
    "id": "D86B501F61AA4712A840F72E5F12BBAF",
    "jupyter": {},
    "mdEditEnable": false,
    "slideshow": {
     "slide_type": "slide"
    },
    "tags": []
   },
   "source": [
    "Generate a 100 dimensional latent variable to verify the generator's output shape."
   ]
  },
  {
   "cell_type": "code",
   "execution_count": 104,
   "metadata": {
    "attributes": {
     "classes": [],
     "id": "",
     "n": "9"
    },
    "graffitiCellId": "id_z51zod2",
    "id": "D94838D3C7E84FD3A4B8CDEF6FFFD23B",
    "jupyter": {},
    "scrolled": false,
    "slideshow": {
     "slide_type": "slide"
    },
    "tags": []
   },
   "outputs": [
    {
     "name": "stdout",
     "output_type": "stream",
     "text": [
      "torch.Size([1, 3, 64, 64])\n"
     ]
    }
   ],
   "source": [
    "x=Variable(Tensor(np.zeros((1,100,1,1))))\n",
    "generator=net_G(100)\n",
    "#generator.cuda()\n",
    "generator.apply(weights_init_normal)\n",
    "print(generator(x).shape)"
   ]
  },
  {
   "cell_type": "markdown",
   "metadata": {
    "graffitiCellId": "id_i42g9u2",
    "id": "0BE3A58F5A6A4C4F92BEECD84B64C10B",
    "jupyter": {},
    "mdEditEnable": false,
    "slideshow": {
     "slide_type": "slide"
    },
    "tags": []
   },
   "source": [
    "## Discriminator\n",
    "\n",
    "The discriminator is a normal convolutional network network except that it uses a leaky ReLU as its activation function. Given $\\alpha \\in[0, 1]$, its definition is\n",
    "\n",
    "\n",
    "$$\n",
    "\\textrm{leaky ReLU}(x) = \\begin{cases}x & \\text{if}\\ x > 0\\\\ \\alpha x &\\text{otherwise}\\end{cases}.\n",
    "$$\n",
    "\n",
    "\n",
    "As it can be seen, it is normal ReLU if $\\alpha=0$, and an identity function if $\\alpha=1$. For $\\alpha \\in (0, 1)$, leaky ReLU is a nonlinear function that give a non-zero output for a negative input. It aims to fix the \"dying ReLU\" problem that a neuron might always output a negative value and therefore cannot make any progress since the gradient of ReLU is 0."
   ]
  },
  {
   "cell_type": "code",
   "execution_count": 105,
   "metadata": {
    "attributes": {
     "classes": [],
     "id": "",
     "n": "10"
    },
    "graffitiCellId": "id_4tobxs3",
    "id": "9AA265C8E2D54CB7851745C8BB41C84B",
    "jupyter": {},
    "scrolled": false,
    "slideshow": {
     "slide_type": "slide"
    },
    "tags": []
   },
   "outputs": [
    {
     "data": {
      "image/png": "[encoded data removed]",
      "text/plain": [
       "<Figure size 288x288 with 1 Axes>"
      ]
     },
     "metadata": {
      "needs_background": "light"
     },
     "output_type": "display_data"
    }
   ],
   "source": [
    "alphas = [0, 0.2, 0.4, .6]\n",
    "x = np.arange(-2, 1, 0.1)\n",
    "Y = [nn.LeakyReLU(alpha)(Tensor(x)).cpu().numpy()for alpha in alphas]\n",
    "plt.figure(figsize=(4,4))\n",
    "for y in Y:\n",
    "    plt.plot(x,y)\n",
    "plt.show()"
   ]
  },
  {
   "cell_type": "markdown",
   "metadata": {
    "graffitiCellId": "id_rua557b",
    "id": "CC773AE0204644A28D8F3E33D57526FA",
    "jupyter": {},
    "mdEditEnable": false,
    "slideshow": {
     "slide_type": "slide"
    },
    "tags": []
   },
   "source": [
    "The basic block of the discriminator is a convolution layer followed by a batch normalization layer and a leaky ReLU activation. The hyper-parameters of the convolution layer are similar to the transpose convolution layer in the generator block."
   ]
  },
  {
   "cell_type": "code",
   "execution_count": 106,
   "metadata": {
    "attributes": {
     "classes": [],
     "id": "",
     "n": "11"
    },
    "graffitiCellId": "id_sg2bxuv",
    "id": "F3165E3CEE2A415F8A3858B0E68F43C6",
    "jupyter": {},
    "scrolled": false,
    "slideshow": {
     "slide_type": "slide"
    },
    "tags": []
   },
   "outputs": [],
   "source": [
    "class D_block(nn.Module):\n",
    "    def __init__(self,in_channels,out_channels,kernel_size=4,strides=2,\n",
    "                 padding=1,alpha=0.2):\n",
    "        super(D_block,self).__init__()\n",
    "        self.conv2d=nn.Conv2d(in_channels,out_channels,kernel_size,strides,padding,bias=False)\n",
    "        self.batch_norm=nn.BatchNorm2d(out_channels,0.8)\n",
    "        self.activation=nn.LeakyReLU(alpha)\n",
    "    def forward(self,X):\n",
    "        return self.activation(self.batch_norm(self.conv2d(X)))"
   ]
  },
  {
   "cell_type": "markdown",
   "metadata": {
    "graffitiCellId": "id_93f29b5",
    "id": "AEF7893313BA46998E2DE2193AE15E15",
    "jupyter": {},
    "mdEditEnable": false,
    "slideshow": {
     "slide_type": "slide"
    },
    "tags": []
   },
   "source": [
    "A basic block with default settings will halve the width and height of the inputs, as we demonstrated in :numref:`sec_padding`. For example, given a input shape $n_h = n_w = 16 $, with a kernel shape $k_h = k_w = 4$, a stride shape $s_h = s_w = 2$, and a padding shape $p_h = p_w = 1$, the output shape will be:\n",
    "\n",
    "\n",
    "$$\n",
    "\\begin{aligned}\n",
    "n_h^{'} \\times n_w^{'} &= \\lfloor(n_h-k_h+2p_h+s_h)/s_h\\rfloor \\times \\lfloor(n_w-k_w+2p_w+s_w)/s_w\\rfloor\\\\\n",
    "  &= \\lfloor(16-4+2\\times 1+2)/2\\rfloor \\times \\lfloor(16-4+2\\times 1+2)/2\\rfloor\\\\\n",
    "  &= 8 \\times 8 .\\\\\n",
    "\\end{aligned}\n",
    "$$\n"
   ]
  },
  {
   "cell_type": "code",
   "execution_count": 107,
   "metadata": {
    "attributes": {
     "classes": [],
     "id": "",
     "n": "12"
    },
    "graffitiCellId": "id_hi27kkc",
    "id": "3FC84D35530C4863AC53C2AA82414228",
    "jupyter": {},
    "scrolled": false,
    "slideshow": {
     "slide_type": "slide"
    },
    "tags": []
   },
   "outputs": [
    {
     "name": "stdout",
     "output_type": "stream",
     "text": [
      "torch.Size([2, 20, 8, 8])\n"
     ]
    }
   ],
   "source": [
    "x = Variable(Tensor(np.zeros((2, 3, 16, 16))))\n",
    "d_blk = D_block(3,20)\n",
    "#d_blk.cuda()\n",
    "print(d_blk(x).shape)"
   ]
  },
  {
   "cell_type": "markdown",
   "metadata": {
    "graffitiCellId": "id_gh8rm9u",
    "id": "B8FF92411A3A4BF3B528713D754438C6",
    "jupyter": {},
    "mdEditEnable": false,
    "slideshow": {
     "slide_type": "slide"
    },
    "tags": []
   },
   "source": [
    "The discriminator is a mirror of the generator."
   ]
  },
  {
   "cell_type": "code",
   "execution_count": 108,
   "metadata": {
    "attributes": {
     "classes": [],
     "id": "",
     "n": "13"
    },
    "graffitiCellId": "id_ilwjbsk",
    "id": "BC124154CD234BDDAF91592CA31C514E",
    "jupyter": {},
    "scrolled": false,
    "slideshow": {
     "slide_type": "slide"
    },
    "tags": []
   },
   "outputs": [],
   "source": [
    "class net_D(nn.Module):\n",
    "    def __init__(self,in_channels):\n",
    "        super(net_D,self).__init__()\n",
    "        n_D=64\n",
    "        self.model=nn.Sequential(\n",
    "            D_block(in_channels,n_D),\n",
    "            D_block(n_D,n_D*2),\n",
    "            D_block(n_D*2,n_D*4),\n",
    "            D_block(n_D*4,n_D*8)\n",
    "        )\n",
    "        self.conv=nn.Conv2d(n_D*8,1,kernel_size=4,bias=False)\n",
    "        self.activation=nn.Sigmoid()\n",
    "        # self._initialize_weights()\n",
    "    def forward(self,x):\n",
    "        x=self.model(x)\n",
    "        x=self.conv(x)\n",
    "        x=self.activation(x)\n",
    "        return x"
   ]
  },
  {
   "cell_type": "markdown",
   "metadata": {
    "graffitiCellId": "id_3mhtj2z",
    "id": "71310D73F4544ADD8D37681AE7667A81",
    "jupyter": {},
    "mdEditEnable": false,
    "slideshow": {
     "slide_type": "slide"
    },
    "tags": []
   },
   "source": [
    "It uses a convolution layer with output channel $1$ as the last layer to obtain a single prediction value."
   ]
  },
  {
   "cell_type": "code",
   "execution_count": 109,
   "metadata": {
    "attributes": {
     "classes": [],
     "id": "",
     "n": "15"
    },
    "graffitiCellId": "id_uurforl",
    "id": "7C74B6FF8DBE42DDA521E38429DA77D4",
    "jupyter": {},
    "scrolled": false,
    "slideshow": {
     "slide_type": "slide"
    },
    "tags": []
   },
   "outputs": [
    {
     "name": "stdout",
     "output_type": "stream",
     "text": [
      "torch.Size([1, 1, 1, 1])\n"
     ]
    }
   ],
   "source": [
    "x = Variable(Tensor(np.zeros((1, 3, 64, 64))))\n",
    "discriminator=net_D(3)\n",
    "#discriminator.cuda()\n",
    "discriminator.apply(weights_init_normal)\n",
    "print(discriminator(x).shape)"
   ]
  },
  {
   "cell_type": "markdown",
   "metadata": {
    "graffitiCellId": "id_v5ytu3j",
    "id": "FC1CD12966AA4B8D8F7AAA803EA8F20E",
    "jupyter": {},
    "mdEditEnable": false,
    "slideshow": {
     "slide_type": "slide"
    },
    "tags": []
   },
   "source": [
    "## Training\n",
    "Compared to the basic GAN in :numref:`sec_basic_gan`, we use the same learning rate for both generator and discriminator since they are similar to each other. In addition, we change $\\beta_1$ in Adam (:numref:`sec_adam`) from $0.9$ to $0.5$. It decreases the smoothness of the momentum, the exponentially weighted moving average of past gradients, to take care of the rapid changing gradients because the generator and the discriminator fight with each other. Besides, the random generated noise `Z`, is a 4-D tensor and we are using GPU to accelerate the computation."
   ]
  },
  {
   "cell_type": "code",
   "execution_count": 110,
   "metadata": {
    "attributes": {
     "classes": [],
     "id": "",
     "n": "20"
    },
    "graffitiCellId": "id_yuwepmb",
    "id": "00EF240EB4824D6185F29716E49020E6",
    "jupyter": {},
    "scrolled": false,
    "slideshow": {
     "slide_type": "slide"
    },
    "tags": []
   },
   "outputs": [],
   "source": [
    "def update_D(X,Z,net_D,net_G,loss,trainer_D):\n",
    "    batch_size=X.shape[0]\n",
    "    Tensor=torch.FloatTensor\n",
    "    ones=Variable(Tensor(np.ones(batch_size,)),requires_grad=False).view(batch_size,1)\n",
    "    zeros = Variable(Tensor(np.zeros(batch_size,)),requires_grad=False).view(batch_size,1)\n",
    "    real_Y=net_D(X).view(batch_size,-1)\n",
    "    fake_X=net_G(Z)\n",
    "    fake_Y=net_D(fake_X).view(batch_size,-1)\n",
    "    loss_D=(loss(real_Y,ones)+loss(fake_Y,zeros))/2\n",
    "    loss_D.backward()\n",
    "    trainer_D.step()\n",
    "    return float(loss_D.sum())\n",
    "\n",
    "def update_G(Z,net_D,net_G,loss,trainer_G):\n",
    "    batch_size=Z.shape[0]\n",
    "    Tensor=torch.FloatTensor\n",
    "    ones=Variable(Tensor(np.ones((batch_size,))),requires_grad=False).view(batch_size,1)\n",
    "    fake_X=net_G(Z)\n",
    "    fake_Y=net_D(fake_X).view(batch_size,-1)\n",
    "    loss_G=loss(fake_Y,ones)\n",
    "    loss_G.backward()\n",
    "    trainer_G.step()\n",
    "    return float(loss_G.sum())\n",
    "\n",
    "\n",
    "def train(net_D,net_G,data_iter,num_epochs,lr,latent_dim):\n",
    "    loss=nn.BCELoss() #交叉商损失\n",
    "    Tensor=torch.FloatTensor\n",
    "    trainer_D=torch.optim.Adam(net_D.parameters(),lr=lr,betas=(0.5,0.999))\n",
    "    trainer_G=torch.optim.Adam(net_G.parameters(),lr=lr,betas=(0.5,0.999))\n",
    "    plt.figure(figsize=(7,4))\n",
    "    d_loss_point=[]\n",
    "    g_loss_point=[]\n",
    "    d_loss=0\n",
    "    g_loss=0\n",
    "    for epoch in range(1,num_epochs+1):\n",
    "        d_loss_sum=0\n",
    "        g_loss_sum=0\n",
    "        batch=0\n",
    "        for X in data_iter:\n",
    "            X=X[:][0]\n",
    "            batch+=1\n",
    "            X=Variable(X.type(Tensor))\n",
    "            batch_size=X.shape[0]\n",
    "            Z=Variable(Tensor(np.random.normal(0,1,(batch_size,latent_dim,1,1))))\n",
    "\n",
    "            trainer_D.zero_grad()\n",
    "            d_loss = update_D(X, Z, net_D, net_G, loss, trainer_D)\n",
    "            d_loss_sum+=d_loss\n",
    "            trainer_G.zero_grad()\n",
    "            g_loss = update_G(Z, net_D, net_G, loss, trainer_G)\n",
    "            g_loss_sum+=g_loss\n",
    "\n",
    "        d_loss_point.append(d_loss_sum/batch)\n",
    "        g_loss_point.append(g_loss_sum/batch)\n",
    "        print(\n",
    "            \"[Epoch %d/%d]  [D loss: %f] [G loss: %f]\"\n",
    "            % (epoch, num_epochs,  d_loss_sum/batch_size,  g_loss_sum/batch_size)\n",
    "        )\n",
    "\n",
    "\n",
    "    plt.ylabel('Loss', fontdict={ 'size': 14})\n",
    "    plt.xlabel('epoch', fontdict={ 'size': 14})\n",
    "    plt.xticks(range(0,num_epochs+1,3))\n",
    "    plt.plot(range(1,num_epochs+1),d_loss_point,color='orange',label='discriminator')\n",
    "    plt.plot(range(1,num_epochs+1),g_loss_point,color='blue',label='generator')\n",
    "    plt.legend()\n",
    "    plt.show()\n",
    "    print(d_loss,g_loss)\n",
    "\n",
    "    Z = Variable(Tensor(np.random.normal(0, 1, size=(21, latent_dim, 1, 1))),requires_grad=False)\n",
    "    fake_x = generator(Z)\n",
    "    fake_x=fake_x.cpu().detach().numpy()\n",
    "    plt.figure(figsize=(14,6))\n",
    "    for i in range(21):\n",
    "        im=np.transpose(fake_x[i])\n",
    "        plt.subplot(3,7,i+1)\n",
    "        plt.imshow(im)\n",
    "    plt.show()"
   ]
  },
  {
   "cell_type": "markdown",
   "metadata": {
    "graffitiCellId": "id_4qjnatu",
    "id": "B5C0EEA901304E828203209D9C5BED94",
    "jupyter": {},
    "mdEditEnable": false,
    "slideshow": {
     "slide_type": "slide"
    },
    "tags": []
   },
   "source": [
    "Now let's train the model."
   ]
  },
  {
   "cell_type": "code",
   "execution_count": 111,
   "metadata": {
    "attributes": {
     "classes": [],
     "id": "",
     "n": "21"
    },
    "graffitiCellId": "id_739lwqb",
    "id": "349B9D241985452689DD2AF72D5002FE",
    "jupyter": {},
    "scrolled": false,
    "slideshow": {
     "slide_type": "slide"
    },
    "tags": []
   },
   "outputs": [
    {
     "name": "stdout",
     "output_type": "stream",
     "text": [
      "[Epoch 1/100]  [D loss: 15.359610] [G loss: 33.031905]\n",
      "[Epoch 2/100]  [D loss: 13.222789] [G loss: 39.107420]\n",
      "[Epoch 3/100]  [D loss: 11.228350] [G loss: 27.583662]\n",
      "[Epoch 4/100]  [D loss: 10.646758] [G loss: 39.647057]\n",
      "[Epoch 5/100]  [D loss: 7.942269] [G loss: 22.163644]\n",
      "[Epoch 6/100]  [D loss: 6.525097] [G loss: 15.984867]\n",
      "[Epoch 7/100]  [D loss: 12.780530] [G loss: 26.764096]\n",
      "[Epoch 8/100]  [D loss: 14.695568] [G loss: 28.954046]\n",
      "[Epoch 9/100]  [D loss: 13.158366] [G loss: 24.444467]\n",
      "[Epoch 10/100]  [D loss: 14.373196] [G loss: 18.766392]\n",
      "[Epoch 11/100]  [D loss: 8.374436] [G loss: 9.409969]\n",
      "[Epoch 12/100]  [D loss: 4.330897] [G loss: 8.306419]\n",
      "[Epoch 13/100]  [D loss: 3.572597] [G loss: 7.702212]\n",
      "[Epoch 14/100]  [D loss: 2.301811] [G loss: 7.373993]\n",
      "[Epoch 15/100]  [D loss: 2.682386] [G loss: 6.787302]\n",
      "[Epoch 16/100]  [D loss: 2.646477] [G loss: 6.317095]\n",
      "[Epoch 17/100]  [D loss: 2.570384] [G loss: 6.304549]\n",
      "[Epoch 18/100]  [D loss: 2.399483] [G loss: 5.490270]\n",
      "[Epoch 19/100]  [D loss: 2.904605] [G loss: 5.099379]\n",
      "[Epoch 20/100]  [D loss: 2.764897] [G loss: 4.652952]\n",
      "[Epoch 21/100]  [D loss: 2.568979] [G loss: 4.831005]\n",
      "[Epoch 22/100]  [D loss: 2.582279] [G loss: 4.625395]\n",
      "[Epoch 23/100]  [D loss: 2.667698] [G loss: 4.884733]\n",
      "[Epoch 24/100]  [D loss: 2.543379] [G loss: 4.484324]\n",
      "[Epoch 25/100]  [D loss: 2.304809] [G loss: 4.961495]\n",
      "[Epoch 26/100]  [D loss: 2.637073] [G loss: 4.857573]\n",
      "[Epoch 27/100]  [D loss: 2.336523] [G loss: 5.027859]\n",
      "[Epoch 28/100]  [D loss: 2.307407] [G loss: 4.948312]\n",
      "[Epoch 29/100]  [D loss: 2.573545] [G loss: 5.139565]\n",
      "[Epoch 30/100]  [D loss: 2.356604] [G loss: 5.123588]\n",
      "[Epoch 31/100]  [D loss: 2.377897] [G loss: 4.865433]\n",
      "[Epoch 32/100]  [D loss: 2.197652] [G loss: 5.847832]\n",
      "[Epoch 33/100]  [D loss: 2.384927] [G loss: 5.143216]\n",
      "[Epoch 34/100]  [D loss: 2.439283] [G loss: 4.683226]\n",
      "[Epoch 35/100]  [D loss: 2.210010] [G loss: 6.363545]\n",
      "[Epoch 36/100]  [D loss: 2.150581] [G loss: 7.450260]\n",
      "[Epoch 37/100]  [D loss: 1.913782] [G loss: 7.421543]\n",
      "[Epoch 38/100]  [D loss: 2.372813] [G loss: 6.980740]\n",
      "[Epoch 39/100]  [D loss: 2.240070] [G loss: 5.601949]\n",
      "[Epoch 40/100]  [D loss: 2.130349] [G loss: 6.262232]\n",
      "[Epoch 41/100]  [D loss: 2.450016] [G loss: 5.246384]\n",
      "[Epoch 42/100]  [D loss: 2.040839] [G loss: 6.588810]\n",
      "[Epoch 43/100]  [D loss: 2.083293] [G loss: 7.362860]\n",
      "[Epoch 44/100]  [D loss: 2.085137] [G loss: 6.909019]\n",
      "[Epoch 45/100]  [D loss: 2.273405] [G loss: 5.595980]\n",
      "[Epoch 46/100]  [D loss: 2.325574] [G loss: 4.747230]\n",
      "[Epoch 47/100]  [D loss: 2.269076] [G loss: 5.142299]\n",
      "[Epoch 48/100]  [D loss: 2.292423] [G loss: 4.923939]\n",
      "[Epoch 49/100]  [D loss: 2.262615] [G loss: 5.641079]\n",
      "[Epoch 50/100]  [D loss: 2.371469] [G loss: 5.106883]\n",
      "[Epoch 51/100]  [D loss: 2.121683] [G loss: 4.898237]\n",
      "[Epoch 52/100]  [D loss: 2.245587] [G loss: 6.040264]\n",
      "[Epoch 53/100]  [D loss: 2.365361] [G loss: 5.215426]\n",
      "[Epoch 54/100]  [D loss: 2.089092] [G loss: 5.340182]\n",
      "[Epoch 55/100]  [D loss: 2.245285] [G loss: 4.885462]\n",
      "[Epoch 56/100]  [D loss: 2.339923] [G loss: 6.031817]\n",
      "[Epoch 57/100]  [D loss: 2.431890] [G loss: 5.057871]\n",
      "[Epoch 58/100]  [D loss: 2.251042] [G loss: 5.522083]\n",
      "[Epoch 59/100]  [D loss: 2.120363] [G loss: 5.275065]\n",
      "[Epoch 60/100]  [D loss: 2.409473] [G loss: 5.002896]\n",
      "[Epoch 61/100]  [D loss: 2.299938] [G loss: 4.828383]\n",
      "[Epoch 62/100]  [D loss: 2.223359] [G loss: 4.676462]\n",
      "[Epoch 63/100]  [D loss: 2.227784] [G loss: 4.799984]\n",
      "[Epoch 64/100]  [D loss: 2.228894] [G loss: 4.323704]\n",
      "[Epoch 65/100]  [D loss: 2.248140] [G loss: 4.834592]\n",
      "[Epoch 66/100]  [D loss: 2.206546] [G loss: 4.733001]\n",
      "[Epoch 67/100]  [D loss: 2.277574] [G loss: 5.131967]\n",
      "[Epoch 68/100]  [D loss: 2.366205] [G loss: 5.034034]\n",
      "[Epoch 69/100]  [D loss: 2.212299] [G loss: 4.591792]\n",
      "[Epoch 70/100]  [D loss: 2.381697] [G loss: 5.683211]\n",
      "[Epoch 71/100]  [D loss: 2.183012] [G loss: 5.761871]\n",
      "[Epoch 72/100]  [D loss: 2.309538] [G loss: 5.252923]\n",
      "[Epoch 73/100]  [D loss: 2.192975] [G loss: 5.074115]\n",
      "[Epoch 74/100]  [D loss: 2.368829] [G loss: 4.893170]\n",
      "[Epoch 75/100]  [D loss: 2.309908] [G loss: 5.236795]\n",
      "[Epoch 76/100]  [D loss: 2.361783] [G loss: 4.794231]\n",
      "[Epoch 77/100]  [D loss: 2.139920] [G loss: 5.728824]\n",
      "[Epoch 78/100]  [D loss: 2.325736] [G loss: 4.996192]\n",
      "[Epoch 79/100]  [D loss: 2.506210] [G loss: 5.461747]\n",
      "[Epoch 80/100]  [D loss: 1.502025] [G loss: 10.666379]\n",
      "[Epoch 81/100]  [D loss: 1.771451] [G loss: 9.200966]\n",
      "[Epoch 82/100]  [D loss: 1.204173] [G loss: 10.476511]\n",
      "[Epoch 83/100]  [D loss: 1.558135] [G loss: 8.407142]\n",
      "[Epoch 84/100]  [D loss: 0.843144] [G loss: 10.543130]\n",
      "[Epoch 85/100]  [D loss: 2.013549] [G loss: 8.897631]\n",
      "[Epoch 86/100]  [D loss: 1.535819] [G loss: 8.894275]\n",
      "[Epoch 87/100]  [D loss: 1.791246] [G loss: 7.469290]\n",
      "[Epoch 88/100]  [D loss: 1.868031] [G loss: 7.591463]\n",
      "[Epoch 89/100]  [D loss: 2.007417] [G loss: 6.577879]\n",
      "[Epoch 90/100]  [D loss: 1.535164] [G loss: 7.398207]\n",
      "[Epoch 91/100]  [D loss: 1.802956] [G loss: 6.896047]\n",
      "[Epoch 92/100]  [D loss: 1.483653] [G loss: 8.829518]\n",
      "[Epoch 93/100]  [D loss: 1.963097] [G loss: 7.115066]\n",
      "[Epoch 94/100]  [D loss: 2.037852] [G loss: 6.804304]\n",
      "[Epoch 95/100]  [D loss: 1.943534] [G loss: 6.361179]\n",
      "[Epoch 96/100]  [D loss: 1.892312] [G loss: 6.698988]\n",
      "[Epoch 97/100]  [D loss: 1.977881] [G loss: 7.055421]\n",
      "[Epoch 98/100]  [D loss: 2.198884] [G loss: 6.945583]\n",
      "[Epoch 99/100]  [D loss: 1.973340] [G loss: 6.140846]\n",
      "[Epoch 100/100]  [D loss: 1.952662] [G loss: 6.221633]\n"
     ]
    },
    {
     "data": {
      "image/png": "[encoded data removed]",
      "text/plain": [
       "<Figure size 504x288 with 1 Axes>"
      ]
     },
     "metadata": {
      "needs_background": "light"
     },
     "output_type": "display_data"
    },
    {
     "name": "stderr",
     "output_type": "stream",
     "text": [
      "Clipping input data to the valid range for imshow with RGB data ([0..1] for floats or [0..255] for integers).\n"
     ]
    },
    {
     "name": "stdout",
     "output_type": "stream",
     "text": [
      "0.21042022109031677 2.99569034576416\n"
     ]
    },
    {
     "name": "stderr",
     "output_type": "stream",
     "text": [
      "Clipping input data to the valid range for imshow with RGB data ([0..1] for floats or [0..255] for integers).\n",
      "Clipping input data to the valid range for imshow with RGB data ([0..1] for floats or [0..255] for integers).\n",
      "Clipping input data to the valid range for imshow with RGB data ([0..1] for floats or [0..255] for integers).\n",
      "Clipping input data to the valid range for imshow with RGB data ([0..1] for floats or [0..255] for integers).\n",
      "Clipping input data to the valid range for imshow with RGB data ([0..1] for floats or [0..255] for integers).\n",
      "Clipping input data to the valid range for imshow with RGB data ([0..1] for floats or [0..255] for integers).\n",
      "Clipping input data to the valid range for imshow with RGB data ([0..1] for floats or [0..255] for integers).\n",
      "Clipping input data to the valid range for imshow with RGB data ([0..1] for floats or [0..255] for integers).\n",
      "Clipping input data to the valid range for imshow with RGB data ([0..1] for floats or [0..255] for integers).\n",
      "Clipping input data to the valid range for imshow with RGB data ([0..1] for floats or [0..255] for integers).\n",
      "Clipping input data to the valid range for imshow with RGB data ([0..1] for floats or [0..255] for integers).\n",
      "Clipping input data to the valid range for imshow with RGB data ([0..1] for floats or [0..255] for integers).\n",
      "Clipping input data to the valid range for imshow with RGB data ([0..1] for floats or [0..255] for integers).\n",
      "Clipping input data to the valid range for imshow with RGB data ([0..1] for floats or [0..255] for integers).\n",
      "Clipping input data to the valid range for imshow with RGB data ([0..1] for floats or [0..255] for integers).\n",
      "Clipping input data to the valid range for imshow with RGB data ([0..1] for floats or [0..255] for integers).\n",
      "Clipping input data to the valid range for imshow with RGB data ([0..1] for floats or [0..255] for integers).\n",
      "Clipping input data to the valid range for imshow with RGB data ([0..1] for floats or [0..255] for integers).\n",
      "Clipping input data to the valid range for imshow with RGB data ([0..1] for floats or [0..255] for integers).\n",
      "Clipping input data to the valid range for imshow with RGB data ([0..1] for floats or [0..255] for integers).\n"
     ]
    },
    {
     "data": {
      "image/png": "[encoded data removed]",
      "text/plain": [
       "<Figure size 1008x432 with 21 Axes>"
      ]
     },
     "metadata": {
      "needs_background": "light"
     },
     "output_type": "display_data"
    }
   ],
   "source": [
    "if __name__ == '__main__':\n",
    "    lr,latent_dim,num_epochs=0.005,100,100\n",
    "    train(discriminator,generator,data_iter,num_epochs,lr,latent_dim)"
   ]
  },
  {
   "cell_type": "markdown",
   "metadata": {
    "graffitiCellId": "id_p313wu3",
    "id": "5B66A53614054FF18B9F11884A64345A",
    "jupyter": {},
    "mdEditEnable": false,
    "slideshow": {
     "slide_type": "slide"
    },
    "tags": []
   },
   "source": [
    "## Summary\n",
    "\n",
    "* DCGAN architecture has four convolutional layers for the Discriminator and four \"fractionally-strided\" convolutional layers for the Generator.\n",
    "* The Discriminator is a 4-layer strided convolutions with batch normalization (except its input layer) and leaky ReLU activations. \n",
    "* Leaky ReLU is a nonlinear function that give a non-zero output for a negative input. It aims to fix the “dying ReLU” problem and helps the gradients flow easier through the architecture.\n",
    "\n",
    "\n",
    "## Exercises\n",
    "\n",
    "* What will happen if we use standard ReLU activation rather than leaky ReLU?\n",
    "* Apply DCGAN on Fashion-MNIST and see which category works well and which does not.\n"
   ]
  },
  {
   "cell_type": "code",
   "execution_count": null,
   "metadata": {
    "id": "A8B357578FD64AF48FBAB14D3800E444",
    "jupyter": {},
    "slideshow": {
     "slide_type": "slide"
    },
    "tags": []
   },
   "outputs": [],
   "source": []
  }
 ],
 "metadata": {
  "kernelspec": {
   "display_name": "Python 3",
   "language": "python",
   "name": "python3"
  },
  "language_info": {
   "codemirror_mode": {
    "name": "ipython",
    "version": 3
   },
   "file_extension": ".py",
   "mimetype": "text/x-python",
   "name": "python",
   "nbconvert_exporter": "python",
   "pygments_lexer": "ipython3",
   "version": "3.7.4"
  }
 },
 "nbformat": 4,
 "nbformat_minor": 2
}
